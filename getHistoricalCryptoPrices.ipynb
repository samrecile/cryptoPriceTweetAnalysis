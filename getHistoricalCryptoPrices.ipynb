{
 "cells": [
  {
   "cell_type": "code",
   "execution_count": 6,
   "id": "a7843396",
   "metadata": {},
   "outputs": [],
   "source": [
    "import pandas as pd\n",
    "import pandas_datareader as web\n",
    "import numpy as np\n",
    "import time\n",
    "import dateutil, pytz\n",
    "import datetime as dt\n",
    "import matplotlib.pyplot as plt"
   ]
  },
  {
   "cell_type": "code",
   "execution_count": 7,
   "id": "67088cac",
   "metadata": {},
   "outputs": [],
   "source": [
    "crypto_currency = 'BTC'\n",
    "against_currency = 'USD'"
   ]
  },
  {
   "cell_type": "code",
   "execution_count": 9,
   "id": "f2460352",
   "metadata": {},
   "outputs": [],
   "source": [
    "start = dt.datetime(2018,1,1)\n",
    "end = dt.datetime.now()"
   ]
  },
  {
   "cell_type": "code",
   "execution_count": 10,
   "id": "619260db",
   "metadata": {},
   "outputs": [],
   "source": [
    "data = web.DataReader(f'{crypto_currency}-{against_currency}', 'yahoo', start, end)"
   ]
  },
  {
   "cell_type": "code",
   "execution_count": 11,
   "id": "9ffc0892",
   "metadata": {},
   "outputs": [
    {
     "name": "stdout",
     "output_type": "stream",
     "text": [
      "                    High           Low          Open         Close  \\\n",
      "Date                                                                 \n",
      "2018-01-01  14112.200195  13154.700195  14112.200195  13657.200195   \n",
      "2018-01-02  15444.599609  13163.599609  13625.000000  14982.099609   \n",
      "2018-01-03  15572.799805  14844.500000  14978.200195  15201.000000   \n",
      "2018-01-04  15739.700195  14522.200195  15270.700195  15599.200195   \n",
      "2018-01-05  17705.199219  15202.799805  15477.200195  17429.500000   \n",
      "\n",
      "                 Volume     Adj Close  \n",
      "Date                                   \n",
      "2018-01-01  10291200000  13657.200195  \n",
      "2018-01-02  16846600192  14982.099609  \n",
      "2018-01-03  16871900160  15201.000000  \n",
      "2018-01-04  21783199744  15599.200195  \n",
      "2018-01-05  23840899072  17429.500000  \n"
     ]
    }
   ],
   "source": [
    "print(data.head())"
   ]
  },
  {
   "cell_type": "code",
   "execution_count": null,
   "id": "41753fd9",
   "metadata": {},
   "outputs": [],
   "source": []
  }
 ],
 "metadata": {
  "kernelspec": {
   "display_name": "Python 3 (ipykernel)",
   "language": "python",
   "name": "python3"
  },
  "language_info": {
   "codemirror_mode": {
    "name": "ipython",
    "version": 3
   },
   "file_extension": ".py",
   "mimetype": "text/x-python",
   "name": "python",
   "nbconvert_exporter": "python",
   "pygments_lexer": "ipython3",
   "version": "3.9.7"
  }
 },
 "nbformat": 4,
 "nbformat_minor": 5
}
