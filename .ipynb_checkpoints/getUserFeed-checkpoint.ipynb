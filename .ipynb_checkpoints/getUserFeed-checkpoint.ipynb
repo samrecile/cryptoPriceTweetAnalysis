{
 "cells": [
  {
   "cell_type": "code",
   "execution_count": 83,
   "id": "c7be7b02",
   "metadata": {},
   "outputs": [],
   "source": [
    "import tweepy\n",
    "import pandas as pd\n",
    "import numpy as np\n",
    "import time"
   ]
  },
  {
   "cell_type": "code",
   "execution_count": 61,
   "id": "84536506",
   "metadata": {},
   "outputs": [],
   "source": [
    "# twitter api keys\n",
    "consumer_key = '5uwoGRFbnkdquwkhCh0eEP5oT'\n",
    "consumer_secret = 'Cb7FTO3PJfWuWlNQCJAk6t0WaiZUsr2gbxVXgoMEnDKZAWQ6E7'\n",
    "access_token = '1310723599498649602-iwJch4CulbtlfUanuiCexwq73a417e'\n",
    "access_token_secret = 'ZnptSo8sSn017u3vXcy8YFl79hbszPC3YKuaCxp9o3o0u'"
   ]
  },
  {
   "cell_type": "code",
   "execution_count": 62,
   "id": "351266bc",
   "metadata": {},
   "outputs": [],
   "source": [
    "# twitter api authentication\n",
    "auth = tweepy.OAuth1UserHandler(\n",
    "   consumer_key, consumer_secret, access_token, access_token_secret\n",
    ")\n",
    "\n",
    "api = tweepy.API(auth)"
   ]
  },
  {
   "cell_type": "code",
   "execution_count": 63,
   "id": "9e12ae0d",
   "metadata": {},
   "outputs": [],
   "source": [
    "# 'CryptoTraderPro', 'crypto_trader', 'cryptotrader85'"
   ]
  },
  {
   "cell_type": "code",
   "execution_count": 64,
   "id": "83ae69d9",
   "metadata": {},
   "outputs": [
    {
     "name": "stdout",
     "output_type": "stream",
     "text": [
      "14\n"
     ]
    }
   ],
   "source": [
    "# accounts\n",
    "user_accounts = ['DocumentingBTC', 'WClementeIII', 'nic__carter', 'gladstein','APompliano','100trillionUSD', 'CryptoTraderPro', 'crypto_trader', 'cryptotrader85', 'TheWonderGirl4', 'DMTLAND_', 'AlgodTrading', 'CryptoBull0', 'Elwapo777']\n",
    "print(len(user_accounts))\n",
    "since_id = ''\n"
   ]
  },
  {
   "cell_type": "code",
   "execution_count": 95,
   "id": "c43e0c8f",
   "metadata": {
    "scrolled": true
   },
   "outputs": [
    {
     "ename": "AttributeError",
     "evalue": "'API' object has no attribute 'followers'",
     "output_type": "error",
     "traceback": [
      "\u001b[0;31m---------------------------------------------------------------------------\u001b[0m",
      "\u001b[0;31mAttributeError\u001b[0m                            Traceback (most recent call last)",
      "\u001b[0;32m/var/folders/7y/thss8ypj0bdb983_rr_v8v700000gn/T/ipykernel_437/1568435989.py\u001b[0m in \u001b[0;36m<module>\u001b[0;34m\u001b[0m\n\u001b[0;32m----> 1\u001b[0;31m \u001b[0;32mfor\u001b[0m \u001b[0mfollower\u001b[0m \u001b[0;32min\u001b[0m \u001b[0mtweepy\u001b[0m\u001b[0;34m.\u001b[0m\u001b[0mCursor\u001b[0m\u001b[0;34m(\u001b[0m\u001b[0mapi\u001b[0m\u001b[0;34m.\u001b[0m\u001b[0mfollowers\u001b[0m\u001b[0;34m,\u001b[0m \u001b[0;34m'DocumentingBTC'\u001b[0m\u001b[0;34m)\u001b[0m\u001b[0;34m.\u001b[0m\u001b[0mitems\u001b[0m\u001b[0;34m(\u001b[0m\u001b[0;36m30\u001b[0m\u001b[0;34m)\u001b[0m\u001b[0;34m:\u001b[0m\u001b[0;34m\u001b[0m\u001b[0;34m\u001b[0m\u001b[0m\n\u001b[0m\u001b[1;32m      2\u001b[0m     \u001b[0mprint\u001b[0m\u001b[0;34m(\u001b[0m\u001b[0mfollower\u001b[0m\u001b[0;34m.\u001b[0m\u001b[0mscreen_name\u001b[0m\u001b[0;34m)\u001b[0m\u001b[0;34m\u001b[0m\u001b[0;34m\u001b[0m\u001b[0m\n",
      "\u001b[0;31mAttributeError\u001b[0m: 'API' object has no attribute 'followers'"
     ]
    }
   ],
   "source": [
    "for follower in tweepy.Cursor(api.followers, 'DocumentingBTC').items(30): \n",
    "    print(follower.screen_name) "
   ]
  },
  {
   "cell_type": "code",
   "execution_count": 65,
   "id": "c9434269",
   "metadata": {},
   "outputs": [],
   "source": [
    "# crypto name variations for mention scanning\n",
    "crypto_name_variations = {'Bitcoin': ['bitcoin', 'btc'],\n",
    " 'Ethereum': ['ethereum', 'eth'],\n",
    " 'Tether': ['tether', 'usdt'],\n",
    " 'BNB': ['bnb', 'bnb'],\n",
    " 'USD Coin': ['usd coin', 'usdc'],\n",
    " 'Solana': ['solana', 'sol'],\n",
    " 'XRP': ['xrp', 'xrp'],\n",
    " 'Terra': ['terra', 'luna'],\n",
    " 'Cardano': ['cardano', 'ada'],\n",
    " 'Dogecoin': ['dogecoin', 'doge'],\n",
    " 'Avalanche': ['avalanche', 'avax'],\n",
    " 'TerraUSD': ['terrausd', 'ust'],\n",
    " 'Polkadot': ['polkadot', 'dot'],\n",
    " 'Binance USD': ['binance usd', 'busd'],\n",
    " 'Shiba Inu': ['shiba inu', 'shib'],\n",
    " 'Wrapped Bitcoin': ['wrapped bitcoin', 'wbtc'],\n",
    " 'Polygon': ['polygon', 'matic'],\n",
    " 'Cronos': ['cronos', 'cro'],\n",
    " 'NEAR Protocol': ['near protocol', 'near'],\n",
    " 'Dai': ['dai', 'dai'],\n",
    " 'Litecoin': ['litecoin', 'ltc'],\n",
    " 'TRON': ['tron', 'trx'],\n",
    " 'Cosmos': ['cosmos', 'atom'],\n",
    " 'Chainlink': ['chainlink', 'link'],\n",
    " 'Uniswap': ['uniswap', 'uni'],\n",
    " 'Bitcoin Cash': ['bitcoin cash', 'bch'],\n",
    " 'FTX Token': ['ftx token', 'ftt'],\n",
    " 'UNUS SED LEO': ['unus sed leo', 'leo'],\n",
    " 'ApeCoin': ['apecoin', 'ape'],\n",
    " 'Stellar': ['stellar', 'xlm'],\n",
    " 'Algorand': ['algorand', 'algo'],\n",
    " 'Monero': ['monero', 'xmr'],\n",
    " 'Ethereum Classic': ['ethereum classic', 'etc'],\n",
    " 'Hedera': ['hedera', 'hbar'],\n",
    " 'Decentraland': ['decentraland', 'mana'],\n",
    " 'Internet Computer': ['internet computer', 'icp'],\n",
    " 'VeChain': ['vechain', 'vet'],\n",
    " 'Filecoin': ['filecoin', 'fil'],\n",
    " 'Elrond': ['elrond', 'egld'],\n",
    " 'The Sandbox': ['the sandbox', 'sand'],\n",
    " 'Theta Network': ['theta network', 'theta'],\n",
    " 'THORChain': ['thorchain', 'rune'],\n",
    " 'Fantom': ['fantom', 'ftm'],\n",
    " 'Tezos': ['tezos', 'xtz'],\n",
    " 'Axie Infinity': ['axie infinity', 'axs'],\n",
    " 'PancakeSwap': ['pancakeswap', 'cake'],\n",
    " 'Klaytn': ['klaytn', 'klay'],\n",
    " 'EOS': ['eos', 'eos'],\n",
    " 'Aave': ['aave', 'aave'],\n",
    " 'Zcash': ['zcash', 'zec'],\n",
    " 'Helium': ['helium', 'hnt'],\n",
    " 'Flow': ['flow', 'flow'],\n",
    " 'STEPN': ['stepn', 'gmt'],\n",
    " 'KuCoin Token': ['kucoin token', 'kcs'],\n",
    " 'Waves': ['waves', 'waves'],\n",
    " 'IOTA': ['iota', 'miota'],\n",
    " 'Maker': ['maker', 'mkr'],\n",
    " 'BitTorrent-New': ['bittorrent-new', 'btt'],\n",
    " 'The Graph': ['the graph', 'grt'],\n",
    " 'eCash': ['ecash', 'xec'],\n",
    " 'Bitcoin SV': ['bitcoin sv', 'bsv'],\n",
    " 'Convex Finance': ['convex finance', 'cvx'],\n",
    " 'Huobi Token': ['huobi token', 'ht'],\n",
    " 'Stacks': ['stacks', 'stx'],\n",
    " 'Neo': ['neo', 'neo'],\n",
    " 'Kusama': ['kusama', 'ksm'],\n",
    " 'TrueUSD': ['trueusd', 'tusd'],\n",
    " 'Zilliqa': ['zilliqa', 'zil'],\n",
    " 'Harmony': ['harmony', 'one'],\n",
    " 'Quant': ['quant', 'qnt'],\n",
    " 'Celo': ['celo', 'celo'],\n",
    " 'Gala': ['gala', 'gala'],\n",
    " 'Chiliz': ['chiliz', 'chz'],\n",
    " 'Curve DAO Token': ['curve dao token', 'crv'],\n",
    " 'Nexo': ['nexo', 'nexo'],\n",
    " 'Enjin Coin': ['enjin coin', 'enj'],\n",
    " 'OKB': ['okb', 'okb'],\n",
    " 'Loopring': ['loopring', 'lrc'],\n",
    " 'Basic Attention Token': ['basic attention token', 'bat'],\n",
    " 'Dash': ['dash', 'dash'],\n",
    " 'Mina': ['mina', 'mina'],\n",
    " 'Kava': ['kava', 'kava'],\n",
    " 'Neutrino USD': ['neutrino usd', 'usdn'],\n",
    " 'Pax Dollar': ['pax dollar', 'usdp'],\n",
    " 'Arweave': ['arweave', 'ar'],\n",
    " 'Amp': ['amp', 'amp'],\n",
    " 'Kyber Network Crystal v2': ['kyber network crystal v2', 'knc'],\n",
    " 'Compound': ['compound', 'comp'],\n",
    " 'Decred': ['decred', 'dcr'],\n",
    " 'Kadena': ['kadena', 'kda'],\n",
    " 'Theta Fuel': ['theta fuel', 'tfuel'],\n",
    " 'NEM': ['nem', 'xem'],\n",
    " 'Oasis Network': ['oasis network', 'rose'],\n",
    " 'Holo': ['holo', 'hot'],\n",
    " 'Moonbeam': ['moonbeam', 'glmr'],\n",
    " 'ICON': ['icon', 'icx'],\n",
    " 'Secret': ['secret', 'scrt'],\n",
    " 'Audius': ['audius', 'audio'],\n",
    " 'yearn.finance': ['yearn.finance', 'yfi'],\n",
    " 'XDC Network': ['xdc network', 'xdc']}"
   ]
  },
  {
   "cell_type": "code",
   "execution_count": 66,
   "id": "d2f19e9a",
   "metadata": {},
   "outputs": [
    {
     "data": {
      "text/html": [
       "<div>\n",
       "<style scoped>\n",
       "    .dataframe tbody tr th:only-of-type {\n",
       "        vertical-align: middle;\n",
       "    }\n",
       "\n",
       "    .dataframe tbody tr th {\n",
       "        vertical-align: top;\n",
       "    }\n",
       "\n",
       "    .dataframe thead th {\n",
       "        text-align: right;\n",
       "    }\n",
       "</style>\n",
       "<table border=\"1\" class=\"dataframe\">\n",
       "  <thead>\n",
       "    <tr style=\"text-align: right;\">\n",
       "      <th></th>\n",
       "      <th>Crypto</th>\n",
       "      <th>Symbol</th>\n",
       "      <th>Count</th>\n",
       "    </tr>\n",
       "  </thead>\n",
       "  <tbody>\n",
       "    <tr>\n",
       "      <th>0</th>\n",
       "      <td>Bitcoin</td>\n",
       "      <td>BTC</td>\n",
       "      <td>0</td>\n",
       "    </tr>\n",
       "    <tr>\n",
       "      <th>1</th>\n",
       "      <td>Ethereum</td>\n",
       "      <td>ETH</td>\n",
       "      <td>0</td>\n",
       "    </tr>\n",
       "    <tr>\n",
       "      <th>2</th>\n",
       "      <td>Tether</td>\n",
       "      <td>USDT</td>\n",
       "      <td>0</td>\n",
       "    </tr>\n",
       "    <tr>\n",
       "      <th>3</th>\n",
       "      <td>BNB</td>\n",
       "      <td>BNB</td>\n",
       "      <td>0</td>\n",
       "    </tr>\n",
       "    <tr>\n",
       "      <th>4</th>\n",
       "      <td>USD Coin</td>\n",
       "      <td>USDC</td>\n",
       "      <td>0</td>\n",
       "    </tr>\n",
       "  </tbody>\n",
       "</table>\n",
       "</div>"
      ],
      "text/plain": [
       "     Crypto Symbol  Count\n",
       "0   Bitcoin    BTC      0\n",
       "1  Ethereum    ETH      0\n",
       "2    Tether   USDT      0\n",
       "3       BNB    BNB      0\n",
       "4  USD Coin   USDC      0"
      ]
     },
     "execution_count": 66,
     "metadata": {},
     "output_type": "execute_result"
    }
   ],
   "source": [
    "zeros = [0,0,0,0,0,0,0,0,0,0,0,0,0,0,0,0,0,0,0,0,0,0,0,0,0,0,0,0,0,0,0,0,0,0,0,0,0,0,0,0,0,0,0,0,0,0,0,0,0,0,0,0,0,0,0,0,0,0,0,0,0,0,0,0,0,0,0,0,0,0,0,0,0,0,0,0,0,0,0,0,0,0,0,0,0,0,0,0,0,0,0,0,0,0,0,0,0,0,0,0]\n",
    "cryptos = ['Bitcoin', 'Ethereum', 'Tether', 'BNB', 'USD Coin', 'Solana', 'XRP', 'Terra', 'Cardano', 'Dogecoin', 'Avalanche', 'TerraUSD', 'Polkadot', 'Binance USD', 'Shiba Inu', 'Wrapped Bitcoin', 'Polygon', 'Cronos', 'NEAR Protocol', 'Dai', 'Litecoin', 'TRON', 'Cosmos', 'Chainlink', 'Uniswap', 'Bitcoin Cash', 'FTX Token', 'UNUS SED LEO', 'ApeCoin', 'Stellar', 'Algorand', 'Monero', 'Ethereum Classic', 'Hedera', 'Decentraland', 'Internet Computer', 'VeChain', 'Filecoin', 'Elrond', 'The Sandbox', 'Theta Network', 'THORChain', 'Fantom', 'Tezos', 'Axie Infinity', 'PancakeSwap', 'Klaytn', 'EOS', 'Aave', 'Zcash', 'Helium', 'Flow', 'STEPN', 'KuCoin Token', 'Waves', 'IOTA', 'Maker', 'BitTorrent-New', 'The Graph', 'eCash', 'Bitcoin SV', 'Convex Finance', 'Huobi Token', 'Stacks', 'Neo', 'Kusama', 'TrueUSD', 'Zilliqa', 'Harmony', 'Quant', 'Celo', 'Gala', 'Chiliz', 'Curve DAO Token', 'Nexo', 'Enjin Coin', 'OKB', 'Loopring', 'Basic Attention Token', 'Dash', 'Mina', 'Kava', 'Neutrino USD', 'Pax Dollar', 'Arweave', 'Amp', 'Kyber Network Crystal v2', 'Compound', 'Decred', 'Kadena', 'Theta Fuel', 'NEM', 'Oasis Network', 'Holo', 'Moonbeam', 'ICON', 'Secret', 'Audius', 'yearn.finance', 'XDC Network']\n",
    "symbols = ['BTC', 'ETH', 'USDT', 'BNB', 'USDC', 'SOL', 'XRP', 'LUNA', 'ADA', 'DOGE', 'AVAX', 'UST', 'DOT', 'BUSD', 'SHIB', 'WBTC', 'MATIC', 'CRO', 'NEAR', 'DAI', 'LTC', 'TRX', 'ATOM', 'LINK', 'UNI', 'BCH', 'FTT', 'LEO', 'APE', 'XLM', 'ALGO', 'XMR', 'ETC', 'HBAR', 'MANA', 'ICP', 'VET', 'FIL', 'EGLD', 'SAND', 'THETA', 'RUNE', 'FTM', 'XTZ', 'AXS', 'CAKE', 'KLAY', 'EOS', 'AAVE', 'ZEC', 'HNT', 'FLOW', 'GMT', 'KCS', 'WAVES', 'MIOTA', 'MKR', 'BTT', 'GRT', 'XEC', 'BSV', 'CVX', 'HT', 'STX', 'NEO', 'KSM', 'TUSD', 'ZIL', 'ONE', 'QNT', 'CELO', 'GALA', 'CHZ', 'CRV', 'NEXO', 'ENJ', 'OKB', 'LRC', 'BAT', 'DASH', 'MINA', 'KAVA', 'USDN', 'USDP', 'AR', 'AMP', 'KNC', 'COMP', 'DCR', 'KDA', 'TFUEL', 'XEM', 'ROSE', 'HOT', 'GLMR', 'ICX', 'SCRT', 'AUDIO', 'YFI', 'XDC']\n",
    "mentions = pd.DataFrame(list(zip(cryptos, symbols)), columns=['Crypto', 'Symbol'])\n",
    "mentions['Count'] = zeros\n",
    "mentions.head()"
   ]
  },
  {
   "cell_type": "code",
   "execution_count": 86,
   "id": "a06adde6",
   "metadata": {},
   "outputs": [
    {
     "name": "stdout",
     "output_type": "stream",
     "text": [
      "DocumentingBTC has 100 new tweets since the last api call.\n",
      "4.340228796005249\n",
      "WClementeIII has 100 new tweets since the last api call.\n",
      "1.5339939594268799\n",
      "nic__carter has 100 new tweets since the last api call.\n",
      "0.9547579288482666\n",
      "gladstein has 100 new tweets since the last api call.\n",
      "1.0218400955200195\n",
      "APompliano has 100 new tweets since the last api call.\n",
      "0.7204883098602295\n",
      "100trillionUSD has 100 new tweets since the last api call.\n",
      "0.9145998954772949\n",
      "CryptoTraderPro has 100 new tweets since the last api call.\n",
      "0.7234330177307129\n",
      "crypto_trader has 99 new tweets since the last api call.\n",
      "1.1109418869018555\n",
      "cryptotrader85 has 100 new tweets since the last api call.\n",
      "1.0248892307281494\n",
      "TheWonderGirl4 has 100 new tweets since the last api call.\n",
      "0.9367079734802246\n",
      "DMTLAND_ has 100 new tweets since the last api call.\n",
      "1.008225917816162\n",
      "AlgodTrading has 100 new tweets since the last api call.\n",
      "0.8317110538482666\n",
      "CryptoBull0 has 99 new tweets since the last api call.\n",
      "0.9672410488128662\n",
      "Elwapo777 has 100 new tweets since the last api call.\n",
      "0.8817811012268066\n",
      "1524133583627161602\n",
      "           Crypto Symbol  Count\n",
      "0         Bitcoin    BTC    799\n",
      "1        Ethereum    ETH    160\n",
      "2          Tether   USDT     43\n",
      "3             BNB    BNB     28\n",
      "4        USD Coin   USDC      3\n",
      "..            ...    ...    ...\n",
      "95           ICON    ICX      0\n",
      "96         Secret   SCRT     46\n",
      "97         Audius  AUDIO      0\n",
      "98  yearn.finance    YFI     10\n",
      "99    XDC Network    XDC      0\n",
      "\n",
      "[100 rows x 3 columns]\n"
     ]
    }
   ],
   "source": [
    "last_since_id = ''\n",
    "\n",
    "\n",
    "for user_id in user_accounts:\n",
    "    start = time.time()\n",
    "    user_tweets = api.user_timeline(screen_name=user_id, count=100)\n",
    "    print(user_id, 'has', str(len(user_tweets)), 'new tweets since the last api call.')\n",
    "    for currency, currency_tokens in name_variations.items():\n",
    "        for tweet in user_tweets:\n",
    "            last_since_id = tweet.id\n",
    "            for token in currency_tokens:\n",
    "                if token in tweet.text.lower():\n",
    "                    mentions.loc[mentions.Crypto == currency, \"Count\"] += 1\n",
    "    end = time.time()\n",
    "    print(end-start)\n",
    "print(last_since_id)                 \n",
    "print(mentions)"
   ]
  },
  {
   "cell_type": "code",
   "execution_count": 87,
   "id": "00119783",
   "metadata": {},
   "outputs": [
    {
     "data": {
      "text/plain": [
       "4.0"
      ]
     },
     "execution_count": 87,
     "metadata": {},
     "output_type": "execute_result"
    }
   ],
   "source": [
    "mentions.Count.median()"
   ]
  },
  {
   "cell_type": "code",
   "execution_count": null,
   "id": "da356381",
   "metadata": {},
   "outputs": [],
   "source": []
  }
 ],
 "metadata": {
  "kernelspec": {
   "display_name": "Python 3 (ipykernel)",
   "language": "python",
   "name": "python3"
  },
  "language_info": {
   "codemirror_mode": {
    "name": "ipython",
    "version": 3
   },
   "file_extension": ".py",
   "mimetype": "text/x-python",
   "name": "python",
   "nbconvert_exporter": "python",
   "pygments_lexer": "ipython3",
   "version": "3.9.7"
  }
 },
 "nbformat": 4,
 "nbformat_minor": 5
}
