{
 "cells": [
  {
   "cell_type": "code",
   "execution_count": null,
   "id": "c7be7b02",
   "metadata": {},
   "outputs": [],
   "source": [
    "import tweepy"
   ]
  },
  {
   "cell_type": "code",
   "execution_count": null,
   "id": "84536506",
   "metadata": {},
   "outputs": [],
   "source": [
    "consumer_key = '5uwoGRFbnkdquwkhCh0eEP5oT'\n",
    "consumer_secret = 'Cb7FTO3PJfWuWlNQCJAk6t0WaiZUsr2gbxVXgoMEnDKZAWQ6E7'\n",
    "access_token = '1310723599498649602-iwJch4CulbtlfUanuiCexwq73a417e'\n",
    "access_token_secret = 'ZnptSo8sSn017u3vXcy8YFl79hbszPC3YKuaCxp9o3o0u'"
   ]
  },
  {
   "cell_type": "code",
   "execution_count": null,
   "id": "351266bc",
   "metadata": {},
   "outputs": [],
   "source": [
    "auth = tweepy.OAuth1UserHandler(\n",
    "   consumer_key, consumer_secret, access_token, access_token_secret\n",
    ")\n",
    "\n",
    "api = tweepy.API(auth)"
   ]
  },
  {
   "cell_type": "code",
   "execution_count": null,
   "id": "93fcba70",
   "metadata": {},
   "outputs": [],
   "source": [
    "tweets = api.home_timeline()\n",
    "for tweet in tweets:\n",
    "    print('TWEET:', tweet.text, '/n/n/n')"
   ]
  },
  {
   "cell_type": "code",
   "execution_count": null,
   "id": "83ae69d9",
   "metadata": {},
   "outputs": [],
   "source": [
    "user_id = 'DocumentingBTC'\n",
    "screen_name = 'samrecile'\n",
    "since_id = ''"
   ]
  },
  {
   "cell_type": "code",
   "execution_count": null,
   "id": "a06adde6",
   "metadata": {},
   "outputs": [],
   "source": [
    "user_tweets = api.user_timeline(screen_name=user_id)\n",
    "print(str(len(user_tweets)))"
   ]
  },
  {
   "cell_type": "code",
   "execution_count": null,
   "id": "ce27e1f7",
   "metadata": {},
   "outputs": [],
   "source": [
    "for tweet in tweets:\n",
    "    print('TWEET:', tweet.text, '/n/n/n')"
   ]
  },
  {
   "cell_type": "code",
   "execution_count": null,
   "id": "32ce2fc0",
   "metadata": {},
   "outputs": [],
   "source": [
    "from datetime import date\n",
    "from datetime import timedelta\n",
    "today = date.today()\n",
    "yesterday = today - timedelta(days = 1)\n",
    "tweets = []\n",
    "for tweet in tweepy.Cursor(api.user_timeline,\n",
    "                           screen_name='DocumentingBTC',\n",
    "                           since_id=yesterday).items():\n",
    "        tweets.append(tweet)\n",
    "print(str(len(tweets)))"
   ]
  },
  {
   "cell_type": "code",
   "execution_count": null,
   "id": "2c376ba1",
   "metadata": {},
   "outputs": [],
   "source": []
  }
 ],
 "metadata": {
  "kernelspec": {
   "display_name": "Python 3 (ipykernel)",
   "language": "python",
   "name": "python3"
  },
  "language_info": {
   "codemirror_mode": {
    "name": "ipython",
    "version": 3
   },
   "file_extension": ".py",
   "mimetype": "text/x-python",
   "name": "python",
   "nbconvert_exporter": "python",
   "pygments_lexer": "ipython3",
   "version": "3.9.7"
  }
 },
 "nbformat": 4,
 "nbformat_minor": 5
}
