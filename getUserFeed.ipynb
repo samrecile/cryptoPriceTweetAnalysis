{
 "cells": [
  {
   "cell_type": "code",
   "execution_count": 60,
   "id": "c7be7b02",
   "metadata": {},
   "outputs": [],
   "source": [
    "import tweepy\n",
    "import pandas as pd\n",
    "import numpy as np"
   ]
  },
  {
   "cell_type": "code",
   "execution_count": 61,
   "id": "84536506",
   "metadata": {},
   "outputs": [],
   "source": [
    "# twitter api keys\n",
    "consumer_key = '5uwoGRFbnkdquwkhCh0eEP5oT'\n",
    "consumer_secret = 'Cb7FTO3PJfWuWlNQCJAk6t0WaiZUsr2gbxVXgoMEnDKZAWQ6E7'\n",
    "access_token = '1310723599498649602-iwJch4CulbtlfUanuiCexwq73a417e'\n",
    "access_token_secret = 'ZnptSo8sSn017u3vXcy8YFl79hbszPC3YKuaCxp9o3o0u'"
   ]
  },
  {
   "cell_type": "code",
   "execution_count": 62,
   "id": "351266bc",
   "metadata": {},
   "outputs": [],
   "source": [
    "# twitter api authentication\n",
    "auth = tweepy.OAuth1UserHandler(\n",
    "   consumer_key, consumer_secret, access_token, access_token_secret\n",
    ")\n",
    "\n",
    "api = tweepy.API(auth)"
   ]
  },
  {
   "cell_type": "code",
   "execution_count": 63,
   "id": "de9970b4",
   "metadata": {},
   "outputs": [],
   "source": [
    "# 'CryptoTraderPro', 'crypto_trader', 'cryptotrader85'"
   ]
  },
  {
   "cell_type": "code",
   "execution_count": 64,
   "id": "83ae69d9",
   "metadata": {},
   "outputs": [
    {
     "name": "stdout",
     "output_type": "stream",
     "text": [
      "14\n"
     ]
    }
   ],
   "source": [
    "# accounts\n",
    "user_accounts = ['DocumentingBTC', 'WClementeIII', 'nic__carter', 'gladstein','APompliano','100trillionUSD', 'CryptoTraderPro', 'crypto_trader', 'cryptotrader85', 'TheWonderGirl4', 'DMTLAND_', 'AlgodTrading', 'CryptoBull0', 'Elwapo777']\n",
    "print(len(user_accounts))\n",
    "since_id = ''\n"
   ]
  },
  {
   "cell_type": "code",
   "execution_count": 65,
   "id": "a14eb49b",
   "metadata": {},
   "outputs": [],
   "source": [
    "# crypto name variations for mention scanning\n",
    "crypto_name_variations = {'Bitcoin': ['bitcoin', 'btc'],\n",
    " 'Ethereum': ['ethereum', 'eth'],\n",
    " 'Tether': ['tether', 'usdt'],\n",
    " 'BNB': ['bnb', 'bnb'],\n",
    " 'USD Coin': ['usd coin', 'usdc'],\n",
    " 'Solana': ['solana', 'sol'],\n",
    " 'XRP': ['xrp', 'xrp'],\n",
    " 'Terra': ['terra', 'luna'],\n",
    " 'Cardano': ['cardano', 'ada'],\n",
    " 'Dogecoin': ['dogecoin', 'doge'],\n",
    " 'Avalanche': ['avalanche', 'avax'],\n",
    " 'TerraUSD': ['terrausd', 'ust'],\n",
    " 'Polkadot': ['polkadot', 'dot'],\n",
    " 'Binance USD': ['binance usd', 'busd'],\n",
    " 'Shiba Inu': ['shiba inu', 'shib'],\n",
    " 'Wrapped Bitcoin': ['wrapped bitcoin', 'wbtc'],\n",
    " 'Polygon': ['polygon', 'matic'],\n",
    " 'Cronos': ['cronos', 'cro'],\n",
    " 'NEAR Protocol': ['near protocol', 'near'],\n",
    " 'Dai': ['dai', 'dai'],\n",
    " 'Litecoin': ['litecoin', 'ltc'],\n",
    " 'TRON': ['tron', 'trx'],\n",
    " 'Cosmos': ['cosmos', 'atom'],\n",
    " 'Chainlink': ['chainlink', 'link'],\n",
    " 'Uniswap': ['uniswap', 'uni'],\n",
    " 'Bitcoin Cash': ['bitcoin cash', 'bch'],\n",
    " 'FTX Token': ['ftx token', 'ftt'],\n",
    " 'UNUS SED LEO': ['unus sed leo', 'leo'],\n",
    " 'ApeCoin': ['apecoin', 'ape'],\n",
    " 'Stellar': ['stellar', 'xlm'],\n",
    " 'Algorand': ['algorand', 'algo'],\n",
    " 'Monero': ['monero', 'xmr'],\n",
    " 'Ethereum Classic': ['ethereum classic', 'etc'],\n",
    " 'Hedera': ['hedera', 'hbar'],\n",
    " 'Decentraland': ['decentraland', 'mana'],\n",
    " 'Internet Computer': ['internet computer', 'icp'],\n",
    " 'VeChain': ['vechain', 'vet'],\n",
    " 'Filecoin': ['filecoin', 'fil'],\n",
    " 'Elrond': ['elrond', 'egld'],\n",
    " 'The Sandbox': ['the sandbox', 'sand'],\n",
    " 'Theta Network': ['theta network', 'theta'],\n",
    " 'THORChain': ['thorchain', 'rune'],\n",
    " 'Fantom': ['fantom', 'ftm'],\n",
    " 'Tezos': ['tezos', 'xtz'],\n",
    " 'Axie Infinity': ['axie infinity', 'axs'],\n",
    " 'PancakeSwap': ['pancakeswap', 'cake'],\n",
    " 'Klaytn': ['klaytn', 'klay'],\n",
    " 'EOS': ['eos', 'eos'],\n",
    " 'Aave': ['aave', 'aave'],\n",
    " 'Zcash': ['zcash', 'zec'],\n",
    " 'Helium': ['helium', 'hnt'],\n",
    " 'Flow': ['flow', 'flow'],\n",
    " 'STEPN': ['stepn', 'gmt'],\n",
    " 'KuCoin Token': ['kucoin token', 'kcs'],\n",
    " 'Waves': ['waves', 'waves'],\n",
    " 'IOTA': ['iota', 'miota'],\n",
    " 'Maker': ['maker', 'mkr'],\n",
    " 'BitTorrent-New': ['bittorrent-new', 'btt'],\n",
    " 'The Graph': ['the graph', 'grt'],\n",
    " 'eCash': ['ecash', 'xec'],\n",
    " 'Bitcoin SV': ['bitcoin sv', 'bsv'],\n",
    " 'Convex Finance': ['convex finance', 'cvx'],\n",
    " 'Huobi Token': ['huobi token', 'ht'],\n",
    " 'Stacks': ['stacks', 'stx'],\n",
    " 'Neo': ['neo', 'neo'],\n",
    " 'Kusama': ['kusama', 'ksm'],\n",
    " 'TrueUSD': ['trueusd', 'tusd'],\n",
    " 'Zilliqa': ['zilliqa', 'zil'],\n",
    " 'Harmony': ['harmony', 'one'],\n",
    " 'Quant': ['quant', 'qnt'],\n",
    " 'Celo': ['celo', 'celo'],\n",
    " 'Gala': ['gala', 'gala'],\n",
    " 'Chiliz': ['chiliz', 'chz'],\n",
    " 'Curve DAO Token': ['curve dao token', 'crv'],\n",
    " 'Nexo': ['nexo', 'nexo'],\n",
    " 'Enjin Coin': ['enjin coin', 'enj'],\n",
    " 'OKB': ['okb', 'okb'],\n",
    " 'Loopring': ['loopring', 'lrc'],\n",
    " 'Basic Attention Token': ['basic attention token', 'bat'],\n",
    " 'Dash': ['dash', 'dash'],\n",
    " 'Mina': ['mina', 'mina'],\n",
    " 'Kava': ['kava', 'kava'],\n",
    " 'Neutrino USD': ['neutrino usd', 'usdn'],\n",
    " 'Pax Dollar': ['pax dollar', 'usdp'],\n",
    " 'Arweave': ['arweave', 'ar'],\n",
    " 'Amp': ['amp', 'amp'],\n",
    " 'Kyber Network Crystal v2': ['kyber network crystal v2', 'knc'],\n",
    " 'Compound': ['compound', 'comp'],\n",
    " 'Decred': ['decred', 'dcr'],\n",
    " 'Kadena': ['kadena', 'kda'],\n",
    " 'Theta Fuel': ['theta fuel', 'tfuel'],\n",
    " 'NEM': ['nem', 'xem'],\n",
    " 'Oasis Network': ['oasis network', 'rose'],\n",
    " 'Holo': ['holo', 'hot'],\n",
    " 'Moonbeam': ['moonbeam', 'glmr'],\n",
    " 'ICON': ['icon', 'icx'],\n",
    " 'Secret': ['secret', 'scrt'],\n",
    " 'Audius': ['audius', 'audio'],\n",
    " 'yearn.finance': ['yearn.finance', 'yfi'],\n",
    " 'XDC Network': ['xdc network', 'xdc']}"
   ]
  },
  {
   "cell_type": "code",
   "execution_count": 66,
   "id": "96d5fb4d",
   "metadata": {},
   "outputs": [
    {
     "data": {
      "text/html": [
       "<div>\n",
       "<style scoped>\n",
       "    .dataframe tbody tr th:only-of-type {\n",
       "        vertical-align: middle;\n",
       "    }\n",
       "\n",
       "    .dataframe tbody tr th {\n",
       "        vertical-align: top;\n",
       "    }\n",
       "\n",
       "    .dataframe thead th {\n",
       "        text-align: right;\n",
       "    }\n",
       "</style>\n",
       "<table border=\"1\" class=\"dataframe\">\n",
       "  <thead>\n",
       "    <tr style=\"text-align: right;\">\n",
       "      <th></th>\n",
       "      <th>Crypto</th>\n",
       "      <th>Symbol</th>\n",
       "      <th>Count</th>\n",
       "    </tr>\n",
       "  </thead>\n",
       "  <tbody>\n",
       "    <tr>\n",
       "      <th>0</th>\n",
       "      <td>Bitcoin</td>\n",
       "      <td>BTC</td>\n",
       "      <td>0</td>\n",
       "    </tr>\n",
       "    <tr>\n",
       "      <th>1</th>\n",
       "      <td>Ethereum</td>\n",
       "      <td>ETH</td>\n",
       "      <td>0</td>\n",
       "    </tr>\n",
       "    <tr>\n",
       "      <th>2</th>\n",
       "      <td>Tether</td>\n",
       "      <td>USDT</td>\n",
       "      <td>0</td>\n",
       "    </tr>\n",
       "    <tr>\n",
       "      <th>3</th>\n",
       "      <td>BNB</td>\n",
       "      <td>BNB</td>\n",
       "      <td>0</td>\n",
       "    </tr>\n",
       "    <tr>\n",
       "      <th>4</th>\n",
       "      <td>USD Coin</td>\n",
       "      <td>USDC</td>\n",
       "      <td>0</td>\n",
       "    </tr>\n",
       "  </tbody>\n",
       "</table>\n",
       "</div>"
      ],
      "text/plain": [
       "     Crypto Symbol  Count\n",
       "0   Bitcoin    BTC      0\n",
       "1  Ethereum    ETH      0\n",
       "2    Tether   USDT      0\n",
       "3       BNB    BNB      0\n",
       "4  USD Coin   USDC      0"
      ]
     },
     "execution_count": 66,
     "metadata": {},
     "output_type": "execute_result"
    }
   ],
   "source": [
    "zeros = [0,0,0,0,0,0,0,0,0,0,0,0,0,0,0,0,0,0,0,0,0,0,0,0,0,0,0,0,0,0,0,0,0,0,0,0,0,0,0,0,0,0,0,0,0,0,0,0,0,0,0,0,0,0,0,0,0,0,0,0,0,0,0,0,0,0,0,0,0,0,0,0,0,0,0,0,0,0,0,0,0,0,0,0,0,0,0,0,0,0,0,0,0,0,0,0,0,0,0,0]\n",
    "cryptos = ['Bitcoin', 'Ethereum', 'Tether', 'BNB', 'USD Coin', 'Solana', 'XRP', 'Terra', 'Cardano', 'Dogecoin', 'Avalanche', 'TerraUSD', 'Polkadot', 'Binance USD', 'Shiba Inu', 'Wrapped Bitcoin', 'Polygon', 'Cronos', 'NEAR Protocol', 'Dai', 'Litecoin', 'TRON', 'Cosmos', 'Chainlink', 'Uniswap', 'Bitcoin Cash', 'FTX Token', 'UNUS SED LEO', 'ApeCoin', 'Stellar', 'Algorand', 'Monero', 'Ethereum Classic', 'Hedera', 'Decentraland', 'Internet Computer', 'VeChain', 'Filecoin', 'Elrond', 'The Sandbox', 'Theta Network', 'THORChain', 'Fantom', 'Tezos', 'Axie Infinity', 'PancakeSwap', 'Klaytn', 'EOS', 'Aave', 'Zcash', 'Helium', 'Flow', 'STEPN', 'KuCoin Token', 'Waves', 'IOTA', 'Maker', 'BitTorrent-New', 'The Graph', 'eCash', 'Bitcoin SV', 'Convex Finance', 'Huobi Token', 'Stacks', 'Neo', 'Kusama', 'TrueUSD', 'Zilliqa', 'Harmony', 'Quant', 'Celo', 'Gala', 'Chiliz', 'Curve DAO Token', 'Nexo', 'Enjin Coin', 'OKB', 'Loopring', 'Basic Attention Token', 'Dash', 'Mina', 'Kava', 'Neutrino USD', 'Pax Dollar', 'Arweave', 'Amp', 'Kyber Network Crystal v2', 'Compound', 'Decred', 'Kadena', 'Theta Fuel', 'NEM', 'Oasis Network', 'Holo', 'Moonbeam', 'ICON', 'Secret', 'Audius', 'yearn.finance', 'XDC Network']\n",
    "symbols = ['BTC', 'ETH', 'USDT', 'BNB', 'USDC', 'SOL', 'XRP', 'LUNA', 'ADA', 'DOGE', 'AVAX', 'UST', 'DOT', 'BUSD', 'SHIB', 'WBTC', 'MATIC', 'CRO', 'NEAR', 'DAI', 'LTC', 'TRX', 'ATOM', 'LINK', 'UNI', 'BCH', 'FTT', 'LEO', 'APE', 'XLM', 'ALGO', 'XMR', 'ETC', 'HBAR', 'MANA', 'ICP', 'VET', 'FIL', 'EGLD', 'SAND', 'THETA', 'RUNE', 'FTM', 'XTZ', 'AXS', 'CAKE', 'KLAY', 'EOS', 'AAVE', 'ZEC', 'HNT', 'FLOW', 'GMT', 'KCS', 'WAVES', 'MIOTA', 'MKR', 'BTT', 'GRT', 'XEC', 'BSV', 'CVX', 'HT', 'STX', 'NEO', 'KSM', 'TUSD', 'ZIL', 'ONE', 'QNT', 'CELO', 'GALA', 'CHZ', 'CRV', 'NEXO', 'ENJ', 'OKB', 'LRC', 'BAT', 'DASH', 'MINA', 'KAVA', 'USDN', 'USDP', 'AR', 'AMP', 'KNC', 'COMP', 'DCR', 'KDA', 'TFUEL', 'XEM', 'ROSE', 'HOT', 'GLMR', 'ICX', 'SCRT', 'AUDIO', 'YFI', 'XDC']\n",
    "mentions = pd.DataFrame(list(zip(cryptos, symbols)), columns=['Crypto', 'Symbol'])\n",
    "mentions['Count'] = zeros\n",
    "mentions.head()"
   ]
  },
  {
   "cell_type": "code",
   "execution_count": 76,
   "id": "a06adde6",
   "metadata": {},
   "outputs": [
    {
     "name": "stdout",
     "output_type": "stream",
     "text": [
      "DocumentingBTC has 50 new tweets since the last api call.\n"
     ]
    },
    {
     "name": "stderr",
     "output_type": "stream",
     "text": [
      "/var/folders/7y/thss8ypj0bdb983_rr_v8v700000gn/T/ipykernel_437/3213672325.py:8: SettingWithCopyWarning: \n",
      "A value is trying to be set on a copy of a slice from a DataFrame.\n",
      "Try using .loc[row_indexer,col_indexer] = value instead\n",
      "\n",
      "See the caveats in the documentation: https://pandas.pydata.org/pandas-docs/stable/user_guide/indexing.html#returning-a-view-versus-a-copy\n",
      "  mentions.loc[mentions['Crypto'] == currency]['Count'] += 1\n"
     ]
    },
    {
     "name": "stdout",
     "output_type": "stream",
     "text": [
      "WClementeIII has 50 new tweets since the last api call.\n",
      "nic__carter has 50 new tweets since the last api call.\n",
      "gladstein has 50 new tweets since the last api call.\n",
      "APompliano has 50 new tweets since the last api call.\n",
      "100trillionUSD has 50 new tweets since the last api call.\n",
      "CryptoTraderPro has 50 new tweets since the last api call.\n",
      "crypto_trader has 49 new tweets since the last api call.\n",
      "cryptotrader85 has 50 new tweets since the last api call.\n",
      "TheWonderGirl4 has 50 new tweets since the last api call.\n",
      "DMTLAND_ has 50 new tweets since the last api call.\n",
      "AlgodTrading has 50 new tweets since the last api call.\n",
      "CryptoBull0 has 50 new tweets since the last api call.\n",
      "Elwapo777 has 50 new tweets since the last api call.\n",
      "     Crypto Symbol  Count\n",
      "0   Bitcoin    BTC      0\n",
      "1  Ethereum    ETH      0\n",
      "2    Tether   USDT      0\n",
      "3       BNB    BNB      0\n",
      "4  USD Coin   USDC      0\n"
     ]
    }
   ],
   "source": [
    "for user_id in user_accounts:\n",
    "    user_tweets = api.user_timeline(screen_name=user_id, count=50)\n",
    "    print(user_id, 'has', str(len(user_tweets)), 'new tweets since the last api call.')\n",
    "    for currency, currency_tokens in name_variations.items():\n",
    "        for tweet in user_tweets:\n",
    "            for token in currency_tokens:\n",
    "                if token in tweet.text.lower():\n",
    "                    mentions.loc[mentions['Crypto'] == currency]['Count'] += 1\n",
    "                    \n",
    "print(mentions)"
   ]
  },
  {
   "cell_type": "code",
   "execution_count": 75,
   "id": "ce27e1f7",
   "metadata": {},
   "outputs": [
    {
     "name": "stdout",
     "output_type": "stream",
     "text": [
      "TWEET 1525163764810760193 at 2022-05-13 17:19:12+00:00 : @Savertaken It's worth  atleast 1 Cent surely #lunacoin $LUNA /n\n",
      "TWEET 1525162355600105473 at 2022-05-13 17:13:36+00:00 : @CryptoaaService I'd be good at that 😂 /n\n",
      "TWEET 1525158752491606016 at 2022-05-13 16:59:17+00:00 : @TheMoonCarl I'm buying $LUNA 🚀🚀 https://t.co/v0uQ18JnN9 /n\n",
      "TWEET 1525140943590113284 at 2022-05-13 15:48:31+00:00 : RT @lunaterra_com: 1 Hour Left until the recovery event.\n",
      "\n",
      "Retweet if you participate. /n\n",
      "TWEET 1525129524798799874 at 2022-05-13 15:03:08+00:00 : $LUNA #lunacoin\n",
      "🚀🚀🚀\n",
      "\n",
      "https://t.co/uBKAAISlJF /n\n",
      "TWEET 1525105730537283590 at 2022-05-13 13:28:35+00:00 : @ESmathers I'm buying. 😂💪 /n\n",
      "TWEET 1525104392046788609 at 2022-05-13 13:23:16+00:00 : RT @TerraLunaCom: We are going to recover, the team is working so hard $LUNA Share this tweet! /n\n",
      "TWEET 1525104299876941824 at 2022-05-13 13:22:54+00:00 : RT @lunaterra_com: All people under 20000 Retweets will get rewarded 🎁 /n\n",
      "TWEET 1525089126625775622 at 2022-05-13 12:22:37+00:00 : @ashwsbreal Surely $LUNA is still worth atleast 1 Cent. Its way oversold 🤔 /n\n",
      "TWEET 1525065251066155009 at 2022-05-13 10:47:44+00:00 : @ShibInform I'll believe it when I see it 👍 /n\n",
      "TWEET 1525065099098079232 at 2022-05-13 10:47:08+00:00 : RT @ShibInform: Whoever got affected by $LUNA I shorted luna at 100$, 50x leverage, 50,000$ margin. I closed my position at 0.09$ with 30,0… /n\n",
      "TWEET 1525062299559596033 at 2022-05-13 10:36:01+00:00 : @CryptoCapo_ Please be wrong this time. My portfolio can't take the pain 😭😩 https://t.co/Gk8qAjC7Xd /n\n",
      "TWEET 1525061717788659713 at 2022-05-13 10:33:42+00:00 : RT @ashwsbreal: I will be doing a $10,000 giveaway to 100 people impacted by $LUNA and $UST. More updates soon. Just retweet and be followi… /n\n",
      "TWEET 1525060709276688384 at 2022-05-13 10:29:42+00:00 : @ShibInform 🚀🚀🚀🚀🚀 https://t.co/s9VMwTi5PV /n\n",
      "TWEET 1525060637818224640 at 2022-05-13 10:29:24+00:00 : RT @ShibInform: Drop your $LUNA address below, Like and Retweet\n",
      "\n",
      "Don’t ask why 👇🏼 /n\n",
      "TWEET 1525059691876864001 at 2022-05-13 10:25:39+00:00 : @TerraLunaCom Let's go 🚀🚀🚀 $LUNA /n\n",
      "TWEET 1525059534062071808 at 2022-05-13 10:25:01+00:00 : @TerraLunaCom 👍🚀 https://t.co/Hv1ZNC2JIj /n\n",
      "TWEET 1525059312602828801 at 2022-05-13 10:24:09+00:00 : @TerraLunaCom We shall see if u actually send some....\n",
      "\n",
      "0x407b307B6837ae73A7934c220232b3f5aBd801b9\n",
      "\n",
      "👍👍👍 /n\n",
      "TWEET 1525052668816785410 at 2022-05-13 09:57:45+00:00 : RT @BSCGemsAlert: Like &amp; RT if you want $LUNA to be re-listed on Binance /n\n",
      "TWEET 1525052339853438980 at 2022-05-13 09:56:26+00:00 : @Bilawal994 @lichonthungjami @ashwsbreal We are all here for each other. 👍 /n\n",
      "TWEET 1525052152053436417 at 2022-05-13 09:55:41+00:00 : @TerraLunaCom Who's we and how do we know? Who r u?  Genuine question 👍 https://t.co/hb9a2e4xBh /n\n",
      "TWEET 1525046886851305472 at 2022-05-13 09:34:46+00:00 : @Bilawal994 @lichonthungjami @ashwsbreal Dude. Stay strong. Don't say shit like that. U will be just fine 💪👍 /n\n",
      "TWEET 1525042368315117568 at 2022-05-13 09:16:49+00:00 : @TerraLunaCom What is @stablekwon  doing to fix this absolute mess #LUNA #cryptocurrency https://t.co/uAfan8IwoG /n\n",
      "TWEET 1525042142594453505 at 2022-05-13 09:15:55+00:00 : @TerraLunaCom When? /n\n",
      "TWEET 1525042106288439296 at 2022-05-13 09:15:46+00:00 : RT @TerraLunaCom: I´m giving $LUNA to everyone who follows and retweets /n\n",
      "TWEET 1525036861336477698 at 2022-05-13 08:54:56+00:00 : @lunaterra_com But it isn't. I have now realised this after losing alot of money. 😔 /n\n",
      "TWEET 1525036753782026240 at 2022-05-13 08:54:30+00:00 : RT @lunaterra_com: Like and RT if you want $LUNA to hit $1 /n\n",
      "TWEET 1525033399043428352 at 2022-05-13 08:41:10+00:00 : @ashwsbreal U have had a bad day... . Chin up 👍 it can only get better /n\n",
      "TWEET 1525032321598074884 at 2022-05-13 08:36:53+00:00 : RT @lunaterra_com: Like &amp; RT if you want $LUNA to be re-listed on Binance /n\n",
      "TWEET 1524876137016528896 at 2022-05-12 22:16:16+00:00 : RT @Fresh_Fontana: Pop or poop $WLUNA https://t.co/Xrh7FH0d3m /n\n",
      "TWEET 1524876040560074754 at 2022-05-12 22:15:53+00:00 : RT @dominic_w: This matters for blockchain...\n",
      "\n",
      "In the Dot Com Crash, Amazon stock fell 85% to $5.51\n",
      "\n",
      "Recently, AMZN crashed 33%, but is sti… /n\n",
      "TWEET 1524875922490417176 at 2022-05-12 22:15:25+00:00 : RT @crypto_bitlord7: Soon as $BTC pumps, this altcoin rally will melt your face off\n",
      "\n",
      "-Be ready anon 🚀🚀🚀 /n\n",
      "TWEET 1524875854563655680 at 2022-05-12 22:15:09+00:00 : RT @TerraLunaCom: We are giving $LUNA to first 15000 people who follows and retweets /n\n",
      "TWEET 1524871474682658818 at 2022-05-12 21:57:44+00:00 : @kainnufc https://t.co/lAV4xCP0sE /n\n",
      "TWEET 1524865894912081934 at 2022-05-12 21:35:34+00:00 : If the housing market crashed and houses were a £1 would u sell or buy more???? Well then... That's why I'm buying… https://t.co/a6jZZebwZ6 /n\n",
      "TWEET 1524850619713978368 at 2022-05-12 20:34:52+00:00 : RT @TerraLunaCom: We are rebuying thousands $LUNA , buy and hold, you will thank me very soon /n\n",
      "TWEET 1524847419187412992 at 2022-05-12 20:22:09+00:00 : @MartiniGuyYT https://t.co/ZiByZRicQK /n\n",
      "TWEET 1524842228409061391 at 2022-05-12 20:01:32+00:00 : RT @TerraLunaCom: Let's make the big investors reinvest in $LUNA \n",
      "Share this tweet!! /n\n",
      "TWEET 1524841826301136906 at 2022-05-12 19:59:56+00:00 : @luna_terra_coin https://t.co/PWSNxuR6ze /n\n",
      "TWEET 1524825113018912770 at 2022-05-12 18:53:31+00:00 : RT @tran01: @TerraLunaCom Absolutely $1 again in 5 days, LFGooooooooooo🚀🚀🚀🚀🚀🚀🚀🚀 #LUNA /n\n",
      "TWEET 1524825106660433920 at 2022-05-12 18:53:29+00:00 : RT @rivaladhitya1: @TerraLunaCom Not 1$ but 10$ in few day !! $luna /n\n",
      "TWEET 1524825038721097728 at 2022-05-12 18:53:13+00:00 : RT @TerraLunaCom: Retweet if you believe we will reach 1$ again $LUNA /n\n",
      "TWEET 1524823229289865216 at 2022-05-12 18:46:02+00:00 : RT @ashwsbreal: Hit like if you are still holding $LUNA /n\n",
      "TWEET 1524822803777724417 at 2022-05-12 18:44:20+00:00 : RT @TerraLunaCom: Thanks for the support, let´s pump this shit 🚀🚀 $LUNA /n\n",
      "TWEET 1524820467147853828 at 2022-05-12 18:35:03+00:00 : RT @TerraLunaCom: We are giving $LUNA to first 7000 people who follows and retweets /n\n",
      "TWEET 1524820069716570114 at 2022-05-12 18:33:29+00:00 : #saveluna let's get $LUNA back on track. I'm converting all my #Bitcoin into $LUNA 🚀🚀🚀🚀🚀🚀🚀🚀 #Crypto #cryptocurrency… https://t.co/KR9ux45yPn /n\n",
      "TWEET 1524819098823278592 at 2022-05-12 18:29:37+00:00 : @TerraLunaCom $LUNA #cryptocurrency https://t.co/vS2jfdaalv /n\n",
      "TWEET 1524818982934654976 at 2022-05-12 18:29:09+00:00 : RT @TerraLunaCom: let's rebuild, together. \n",
      "\n",
      "$LUNA is here to stay /n\n",
      "TWEET 1524818574145114112 at 2022-05-12 18:27:32+00:00 : RT @thecryptocactus: For every RT I will buy $5000 $ETH tonight \n",
      "\n",
      "Save yourself, let’s pump the market /n\n",
      "TWEET 1524818467777654787 at 2022-05-12 18:27:07+00:00 : @Fresh_Fontana I agree. I just can't help but think this will be manipulated in our favour.......after all this is crypto /n\n"
     ]
    }
   ],
   "source": [
    "for tweet in user_tweets:\n",
    "    if 'bitcoin' in tweet.text:\n",
    "        bitcoin += 1\n",
    "    print('TWEET', tweet.id, 'at', tweet.created_at, ':', tweet.text, '/n')"
   ]
  },
  {
   "cell_type": "code",
   "execution_count": 33,
   "id": "842e27a4",
   "metadata": {},
   "outputs": [
    {
     "name": "stdout",
     "output_type": "stream",
     "text": [
      "24\n"
     ]
    }
   ],
   "source": [
    "print(bitcoin)"
   ]
  },
  {
   "cell_type": "code",
   "execution_count": null,
   "id": "3a36bdbb",
   "metadata": {},
   "outputs": [],
   "source": []
  }
 ],
 "metadata": {
  "kernelspec": {
   "display_name": "Python 3 (ipykernel)",
   "language": "python",
   "name": "python3"
  },
  "language_info": {
   "codemirror_mode": {
    "name": "ipython",
    "version": 3
   },
   "file_extension": ".py",
   "mimetype": "text/x-python",
   "name": "python",
   "nbconvert_exporter": "python",
   "pygments_lexer": "ipython3",
   "version": "3.9.7"
  }
 },
 "nbformat": 4,
 "nbformat_minor": 5
}
