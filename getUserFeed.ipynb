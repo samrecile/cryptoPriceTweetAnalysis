{
 "cells": [
  {
   "cell_type": "code",
   "execution_count": 158,
   "id": "c7be7b02",
   "metadata": {},
   "outputs": [],
   "source": [
    "import tweepy\n",
    "import pandas as pd\n",
    "import numpy as np\n",
    "import time\n",
    "import dateutil, datetime, pytz"
   ]
  },
  {
   "cell_type": "markdown",
   "id": "78f76ceb",
   "metadata": {},
   "source": [
    "### Twitter Section\n",
    "*In this section, I scan a list of twitter accounts for mentions of specific cryptocurrencies. Later I'll use this list to compare price fluctuations to mention fluctuations*"
   ]
  },
  {
   "cell_type": "code",
   "execution_count": 61,
   "id": "84536506",
   "metadata": {},
   "outputs": [],
   "source": [
    "# twitter api keys\n",
    "consumer_key = '5uwoGRFbnkdquwkhCh0eEP5oT'\n",
    "consumer_secret = 'Cb7FTO3PJfWuWlNQCJAk6t0WaiZUsr2gbxVXgoMEnDKZAWQ6E7'\n",
    "access_token = '1310723599498649602-iwJch4CulbtlfUanuiCexwq73a417e'\n",
    "access_token_secret = 'ZnptSo8sSn017u3vXcy8YFl79hbszPC3YKuaCxp9o3o0u'"
   ]
  },
  {
   "cell_type": "code",
   "execution_count": 62,
   "id": "351266bc",
   "metadata": {},
   "outputs": [],
   "source": [
    "# twitter api authentication\n",
    "auth = tweepy.OAuth1UserHandler(\n",
    "   consumer_key, consumer_secret, access_token, access_token_secret\n",
    ")\n",
    "\n",
    "api = tweepy.API(auth)"
   ]
  },
  {
   "cell_type": "code",
   "execution_count": 63,
   "id": "90675bc0",
   "metadata": {},
   "outputs": [],
   "source": [
    "# 'CryptoTraderPro', 'crypto_trader', 'cryptotrader85'"
   ]
  },
  {
   "cell_type": "code",
   "execution_count": 64,
   "id": "83ae69d9",
   "metadata": {},
   "outputs": [
    {
     "name": "stdout",
     "output_type": "stream",
     "text": [
      "14\n"
     ]
    }
   ],
   "source": [
    "# accounts\n",
    "user_accounts = ['DocumentingBTC', 'WClementeIII', 'nic__carter', 'gladstein','APompliano','100trillionUSD', 'CryptoTraderPro', 'crypto_trader', 'cryptotrader85', 'TheWonderGirl4', 'DMTLAND_', 'AlgodTrading', 'CryptoBull0', 'Elwapo777']\n",
    "print(len(user_accounts))\n",
    "since_id = ''\n"
   ]
  },
  {
   "cell_type": "code",
   "execution_count": 65,
   "id": "46b1bfa5",
   "metadata": {},
   "outputs": [],
   "source": [
    "# crypto name variations for mention scanning\n",
    "crypto_name_variations = {'Bitcoin': ['bitcoin', 'btc'],\n",
    " 'Ethereum': ['ethereum', 'eth'],\n",
    " 'Tether': ['tether', 'usdt'],\n",
    " 'BNB': ['bnb', 'bnb'],\n",
    " 'USD Coin': ['usd coin', 'usdc'],\n",
    " 'Solana': ['solana', 'sol'],\n",
    " 'XRP': ['xrp', 'xrp'],\n",
    " 'Terra': ['terra', 'luna'],\n",
    " 'Cardano': ['cardano', 'ada'],\n",
    " 'Dogecoin': ['dogecoin', 'doge'],\n",
    " 'Avalanche': ['avalanche', 'avax'],\n",
    " 'TerraUSD': ['terrausd', 'ust'],\n",
    " 'Polkadot': ['polkadot', 'dot'],\n",
    " 'Binance USD': ['binance usd', 'busd'],\n",
    " 'Shiba Inu': ['shiba inu', 'shib'],\n",
    " 'Wrapped Bitcoin': ['wrapped bitcoin', 'wbtc'],\n",
    " 'Polygon': ['polygon', 'matic'],\n",
    " 'Cronos': ['cronos', 'cro'],\n",
    " 'NEAR Protocol': ['near protocol', 'near'],\n",
    " 'Dai': ['dai', 'dai'],\n",
    " 'Litecoin': ['litecoin', 'ltc'],\n",
    " 'TRON': ['tron', 'trx'],\n",
    " 'Cosmos': ['cosmos', 'atom'],\n",
    " 'Chainlink': ['chainlink', 'link'],\n",
    " 'Uniswap': ['uniswap', 'uni'],\n",
    " 'Bitcoin Cash': ['bitcoin cash', 'bch'],\n",
    " 'FTX Token': ['ftx token', 'ftt'],\n",
    " 'UNUS SED LEO': ['unus sed leo', 'leo'],\n",
    " 'ApeCoin': ['apecoin', 'ape'],\n",
    " 'Stellar': ['stellar', 'xlm'],\n",
    " 'Algorand': ['algorand', 'algo'],\n",
    " 'Monero': ['monero', 'xmr'],\n",
    " 'Ethereum Classic': ['ethereum classic', 'etc'],\n",
    " 'Hedera': ['hedera', 'hbar'],\n",
    " 'Decentraland': ['decentraland', 'mana'],\n",
    " 'Internet Computer': ['internet computer', 'icp'],\n",
    " 'VeChain': ['vechain', 'vet'],\n",
    " 'Filecoin': ['filecoin', 'fil'],\n",
    " 'Elrond': ['elrond', 'egld'],\n",
    " 'The Sandbox': ['the sandbox', 'sand'],\n",
    " 'Theta Network': ['theta network', 'theta'],\n",
    " 'THORChain': ['thorchain', 'rune'],\n",
    " 'Fantom': ['fantom', 'ftm'],\n",
    " 'Tezos': ['tezos', 'xtz'],\n",
    " 'Axie Infinity': ['axie infinity', 'axs'],\n",
    " 'PancakeSwap': ['pancakeswap', 'cake'],\n",
    " 'Klaytn': ['klaytn', 'klay'],\n",
    " 'EOS': ['eos', 'eos'],\n",
    " 'Aave': ['aave', 'aave'],\n",
    " 'Zcash': ['zcash', 'zec'],\n",
    " 'Helium': ['helium', 'hnt'],\n",
    " 'Flow': ['flow', 'flow'],\n",
    " 'STEPN': ['stepn', 'gmt'],\n",
    " 'KuCoin Token': ['kucoin token', 'kcs'],\n",
    " 'Waves': ['waves', 'waves'],\n",
    " 'IOTA': ['iota', 'miota'],\n",
    " 'Maker': ['maker', 'mkr'],\n",
    " 'BitTorrent-New': ['bittorrent-new', 'btt'],\n",
    " 'The Graph': ['the graph', 'grt'],\n",
    " 'eCash': ['ecash', 'xec'],\n",
    " 'Bitcoin SV': ['bitcoin sv', 'bsv'],\n",
    " 'Convex Finance': ['convex finance', 'cvx'],\n",
    " 'Huobi Token': ['huobi token', 'ht'],\n",
    " 'Stacks': ['stacks', 'stx'],\n",
    " 'Neo': ['neo', 'neo'],\n",
    " 'Kusama': ['kusama', 'ksm'],\n",
    " 'TrueUSD': ['trueusd', 'tusd'],\n",
    " 'Zilliqa': ['zilliqa', 'zil'],\n",
    " 'Harmony': ['harmony', 'one'],\n",
    " 'Quant': ['quant', 'qnt'],\n",
    " 'Celo': ['celo', 'celo'],\n",
    " 'Gala': ['gala', 'gala'],\n",
    " 'Chiliz': ['chiliz', 'chz'],\n",
    " 'Curve DAO Token': ['curve dao token', 'crv'],\n",
    " 'Nexo': ['nexo', 'nexo'],\n",
    " 'Enjin Coin': ['enjin coin', 'enj'],\n",
    " 'OKB': ['okb', 'okb'],\n",
    " 'Loopring': ['loopring', 'lrc'],\n",
    " 'Basic Attention Token': ['basic attention token', 'bat'],\n",
    " 'Dash': ['dash', 'dash'],\n",
    " 'Mina': ['mina', 'mina'],\n",
    " 'Kava': ['kava', 'kava'],\n",
    " 'Neutrino USD': ['neutrino usd', 'usdn'],\n",
    " 'Pax Dollar': ['pax dollar', 'usdp'],\n",
    " 'Arweave': ['arweave', 'ar'],\n",
    " 'Amp': ['amp', 'amp'],\n",
    " 'Kyber Network Crystal v2': ['kyber network crystal v2', 'knc'],\n",
    " 'Compound': ['compound', 'comp'],\n",
    " 'Decred': ['decred', 'dcr'],\n",
    " 'Kadena': ['kadena', 'kda'],\n",
    " 'Theta Fuel': ['theta fuel', 'tfuel'],\n",
    " 'NEM': ['nem', 'xem'],\n",
    " 'Oasis Network': ['oasis network', 'rose'],\n",
    " 'Holo': ['holo', 'hot'],\n",
    " 'Moonbeam': ['moonbeam', 'glmr'],\n",
    " 'ICON': ['icon', 'icx'],\n",
    " 'Secret': ['secret', 'scrt'],\n",
    " 'Audius': ['audius', 'audio'],\n",
    " 'yearn.finance': ['yearn.finance', 'yfi'],\n",
    " 'XDC Network': ['xdc network', 'xdc']}"
   ]
  },
  {
   "cell_type": "code",
   "execution_count": 66,
   "id": "d64e1ece",
   "metadata": {},
   "outputs": [
    {
     "data": {
      "text/html": [
       "<div>\n",
       "<style scoped>\n",
       "    .dataframe tbody tr th:only-of-type {\n",
       "        vertical-align: middle;\n",
       "    }\n",
       "\n",
       "    .dataframe tbody tr th {\n",
       "        vertical-align: top;\n",
       "    }\n",
       "\n",
       "    .dataframe thead th {\n",
       "        text-align: right;\n",
       "    }\n",
       "</style>\n",
       "<table border=\"1\" class=\"dataframe\">\n",
       "  <thead>\n",
       "    <tr style=\"text-align: right;\">\n",
       "      <th></th>\n",
       "      <th>Crypto</th>\n",
       "      <th>Symbol</th>\n",
       "      <th>Count</th>\n",
       "    </tr>\n",
       "  </thead>\n",
       "  <tbody>\n",
       "    <tr>\n",
       "      <th>0</th>\n",
       "      <td>Bitcoin</td>\n",
       "      <td>BTC</td>\n",
       "      <td>0</td>\n",
       "    </tr>\n",
       "    <tr>\n",
       "      <th>1</th>\n",
       "      <td>Ethereum</td>\n",
       "      <td>ETH</td>\n",
       "      <td>0</td>\n",
       "    </tr>\n",
       "    <tr>\n",
       "      <th>2</th>\n",
       "      <td>Tether</td>\n",
       "      <td>USDT</td>\n",
       "      <td>0</td>\n",
       "    </tr>\n",
       "    <tr>\n",
       "      <th>3</th>\n",
       "      <td>BNB</td>\n",
       "      <td>BNB</td>\n",
       "      <td>0</td>\n",
       "    </tr>\n",
       "    <tr>\n",
       "      <th>4</th>\n",
       "      <td>USD Coin</td>\n",
       "      <td>USDC</td>\n",
       "      <td>0</td>\n",
       "    </tr>\n",
       "  </tbody>\n",
       "</table>\n",
       "</div>"
      ],
      "text/plain": [
       "     Crypto Symbol  Count\n",
       "0   Bitcoin    BTC      0\n",
       "1  Ethereum    ETH      0\n",
       "2    Tether   USDT      0\n",
       "3       BNB    BNB      0\n",
       "4  USD Coin   USDC      0"
      ]
     },
     "execution_count": 66,
     "metadata": {},
     "output_type": "execute_result"
    }
   ],
   "source": [
    "zeros = [0,0,0,0,0,0,0,0,0,0,0,0,0,0,0,0,0,0,0,0,0,0,0,0,0,0,0,0,0,0,0,0,0,0,0,0,0,0,0,0,0,0,0,0,0,0,0,0,0,0,0,0,0,0,0,0,0,0,0,0,0,0,0,0,0,0,0,0,0,0,0,0,0,0,0,0,0,0,0,0,0,0,0,0,0,0,0,0,0,0,0,0,0,0,0,0,0,0,0,0]\n",
    "cryptos = ['Bitcoin', 'Ethereum', 'Tether', 'BNB', 'USD Coin', 'Solana', 'XRP', 'Terra', 'Cardano', 'Dogecoin', 'Avalanche', 'TerraUSD', 'Polkadot', 'Binance USD', 'Shiba Inu', 'Wrapped Bitcoin', 'Polygon', 'Cronos', 'NEAR Protocol', 'Dai', 'Litecoin', 'TRON', 'Cosmos', 'Chainlink', 'Uniswap', 'Bitcoin Cash', 'FTX Token', 'UNUS SED LEO', 'ApeCoin', 'Stellar', 'Algorand', 'Monero', 'Ethereum Classic', 'Hedera', 'Decentraland', 'Internet Computer', 'VeChain', 'Filecoin', 'Elrond', 'The Sandbox', 'Theta Network', 'THORChain', 'Fantom', 'Tezos', 'Axie Infinity', 'PancakeSwap', 'Klaytn', 'EOS', 'Aave', 'Zcash', 'Helium', 'Flow', 'STEPN', 'KuCoin Token', 'Waves', 'IOTA', 'Maker', 'BitTorrent-New', 'The Graph', 'eCash', 'Bitcoin SV', 'Convex Finance', 'Huobi Token', 'Stacks', 'Neo', 'Kusama', 'TrueUSD', 'Zilliqa', 'Harmony', 'Quant', 'Celo', 'Gala', 'Chiliz', 'Curve DAO Token', 'Nexo', 'Enjin Coin', 'OKB', 'Loopring', 'Basic Attention Token', 'Dash', 'Mina', 'Kava', 'Neutrino USD', 'Pax Dollar', 'Arweave', 'Amp', 'Kyber Network Crystal v2', 'Compound', 'Decred', 'Kadena', 'Theta Fuel', 'NEM', 'Oasis Network', 'Holo', 'Moonbeam', 'ICON', 'Secret', 'Audius', 'yearn.finance', 'XDC Network']\n",
    "symbols = ['BTC', 'ETH', 'USDT', 'BNB', 'USDC', 'SOL', 'XRP', 'LUNA', 'ADA', 'DOGE', 'AVAX', 'UST', 'DOT', 'BUSD', 'SHIB', 'WBTC', 'MATIC', 'CRO', 'NEAR', 'DAI', 'LTC', 'TRX', 'ATOM', 'LINK', 'UNI', 'BCH', 'FTT', 'LEO', 'APE', 'XLM', 'ALGO', 'XMR', 'ETC', 'HBAR', 'MANA', 'ICP', 'VET', 'FIL', 'EGLD', 'SAND', 'THETA', 'RUNE', 'FTM', 'XTZ', 'AXS', 'CAKE', 'KLAY', 'EOS', 'AAVE', 'ZEC', 'HNT', 'FLOW', 'GMT', 'KCS', 'WAVES', 'MIOTA', 'MKR', 'BTT', 'GRT', 'XEC', 'BSV', 'CVX', 'HT', 'STX', 'NEO', 'KSM', 'TUSD', 'ZIL', 'ONE', 'QNT', 'CELO', 'GALA', 'CHZ', 'CRV', 'NEXO', 'ENJ', 'OKB', 'LRC', 'BAT', 'DASH', 'MINA', 'KAVA', 'USDN', 'USDP', 'AR', 'AMP', 'KNC', 'COMP', 'DCR', 'KDA', 'TFUEL', 'XEM', 'ROSE', 'HOT', 'GLMR', 'ICX', 'SCRT', 'AUDIO', 'YFI', 'XDC']\n",
    "mentions = pd.DataFrame(list(zip(cryptos, symbols)), columns=['Crypto', 'Symbol'])\n",
    "mentions['Count'] = zeros\n",
    "mentions.head()"
   ]
  },
  {
   "cell_type": "code",
   "execution_count": 114,
   "id": "f3278d57",
   "metadata": {},
   "outputs": [],
   "source": [
    "# function mention grabber\n",
    "def get_user_tweets(user_id, name_variations, since=None):\n",
    "    if since:\n",
    "        user_tweets = api.user_timeline(screen_name=user_id, since_id=since, count=100)\n",
    "        since_id = user_tweets[-1].id\n",
    "        # update twitter acount model instance with since_id\n",
    "        return user_tweets\n",
    "    else:\n",
    "        user_tweets = api.user_timeline(screen_name=user_id, count=100)\n",
    "        since_id = user_tweets[-1].id\n",
    "        # update twitter acount model instance with since_id\n",
    "        return user_tweets\n"
   ]
  },
  {
   "cell_type": "code",
   "execution_count": 115,
   "id": "a06adde6",
   "metadata": {},
   "outputs": [
    {
     "name": "stdout",
     "output_type": "stream",
     "text": [
      "DocumentingBTC has 100 new tweets since the last api call.\n",
      "4.2402989864349365\n",
      "WClementeIII has 100 new tweets since the last api call.\n",
      "0.6290550231933594\n",
      "nic__carter has 100 new tweets since the last api call.\n",
      "0.9044289588928223\n",
      "gladstein has 100 new tweets since the last api call.\n",
      "0.9148688316345215\n",
      "APompliano has 100 new tweets since the last api call.\n",
      "0.874492883682251\n",
      "100trillionUSD has 100 new tweets since the last api call.\n",
      "0.8749666213989258\n",
      "CryptoTraderPro has 100 new tweets since the last api call.\n",
      "1.2133519649505615\n",
      "crypto_trader has 99 new tweets since the last api call.\n",
      "0.8791120052337646\n",
      "cryptotrader85 has 100 new tweets since the last api call.\n",
      "0.9036741256713867\n",
      "TheWonderGirl4 has 100 new tweets since the last api call.\n",
      "0.872830867767334\n",
      "DMTLAND_ has 100 new tweets since the last api call.\n",
      "1.1777760982513428\n",
      "AlgodTrading has 100 new tweets since the last api call.\n",
      "0.8485639095306396\n",
      "CryptoBull0 has 99 new tweets since the last api call.\n",
      "0.946709156036377\n",
      "Elwapo777 has 100 new tweets since the last api call.\n",
      "0.8824148178100586\n",
      "\n",
      "           Crypto Symbol  Count\n",
      "0         Bitcoin    BTC   1117\n",
      "1        Ethereum    ETH    226\n",
      "2          Tether   USDT     69\n",
      "3             BNB    BNB     38\n",
      "4        USD Coin   USDC      3\n",
      "..            ...    ...    ...\n",
      "95           ICON    ICX      0\n",
      "96         Secret   SCRT     64\n",
      "97         Audius  AUDIO      0\n",
      "98  yearn.finance    YFI     16\n",
      "99    XDC Network    XDC      0\n",
      "\n",
      "[100 rows x 3 columns]\n"
     ]
    }
   ],
   "source": [
    "last_since_id = ''\n",
    "\n",
    "\n",
    "for user_id in user_accounts:\n",
    "    start = time.time()\n",
    "    user_tweets = get_user_tweets(user_id, name_variations)\n",
    "    print(user_id, 'has', str(len(user_tweets)), 'new tweets since the last api call.')\n",
    "    for currency, currency_tokens in name_variations.items():\n",
    "        for tweet in user_tweets:\n",
    "            for token in currency_tokens:\n",
    "                if token in tweet.text.lower():\n",
    "                    mentions.loc[mentions.Crypto == currency, \"Count\"] += 1\n",
    "    end = time.time()\n",
    "    print(end-start)\n",
    "print(last_since_id)                 \n",
    "print(mentions)"
   ]
  },
  {
   "cell_type": "code",
   "execution_count": 159,
   "id": "855128d7",
   "metadata": {},
   "outputs": [
    {
     "data": {
      "text/plain": [
       "datetime.datetime(2022, 5, 16, 16, 15, 34, 768776)"
      ]
     },
     "execution_count": 159,
     "metadata": {},
     "output_type": "execute_result"
    }
   ],
   "source": [
    "datetime.datetime.now()"
   ]
  },
  {
   "cell_type": "code",
   "execution_count": 169,
   "id": "408908ec",
   "metadata": {},
   "outputs": [
    {
     "name": "stdout",
     "output_type": "stream",
     "text": [
      "yes\n"
     ]
    }
   ],
   "source": [
    "value = user_tweets[-1].created_at\n",
    "\n",
    "now = datetime.datetime.now()\n",
    "now = pytz.utc.localize(now)\n",
    "\n",
    "if value < now:\n",
    "     print('yes')\n",
    "else:\n",
    "    print('no')"
   ]
  },
  {
   "cell_type": "code",
   "execution_count": 116,
   "id": "af7c4c4b",
   "metadata": {},
   "outputs": [
    {
     "data": {
      "text/plain": [
       "6.5"
      ]
     },
     "execution_count": 116,
     "metadata": {},
     "output_type": "execute_result"
    }
   ],
   "source": [
    "mentions.Count.median()"
   ]
  },
  {
   "cell_type": "code",
   "execution_count": 117,
   "id": "530ad2ab",
   "metadata": {},
   "outputs": [
    {
     "name": "stdout",
     "output_type": "stream",
     "text": [
      "     Crypto Symbol  Count\n",
      "0   Bitcoin    BTC   1117\n",
      "1  Ethereum    ETH    226\n",
      "2    Tether   USDT     69\n",
      "3       BNB    BNB     38\n",
      "4  USD Coin   USDC      3\n"
     ]
    }
   ],
   "source": [
    "print(mentions.head())"
   ]
  },
  {
   "cell_type": "markdown",
   "id": "c8e7b225",
   "metadata": {},
   "source": [
    "## Crypto Section\n",
    "In this section, I'll grab crypto prices for comparison to mention fluctuation"
   ]
  },
  {
   "cell_type": "code",
   "execution_count": 99,
   "id": "e66dc7e8",
   "metadata": {},
   "outputs": [],
   "source": [
    "# import and key\n",
    "from coinmarketcapapi import CoinMarketCapAPI, CoinMarketCapAPIError\n",
    "cmc = CoinMarketCapAPI('d497bd66-dab0-4790-893d-36b432a800fb')"
   ]
  },
  {
   "cell_type": "code",
   "execution_count": 120,
   "id": "0f8e4644",
   "metadata": {},
   "outputs": [],
   "source": [
    "def get_latest_crypto_price(ticker):\n",
    "    api_call = cmc.cryptocurrency_quotes_latest(symbol=ticker)\n",
    "    price = api_call.data[ticker][\"quote\"][\"USD\"][\"price\"]\n",
    "    return price"
   ]
  },
  {
   "cell_type": "code",
   "execution_count": 124,
   "id": "81a5a73c",
   "metadata": {},
   "outputs": [
    {
     "name": "stdout",
     "output_type": "stream",
     "text": [
      "30013.524684897107\n"
     ]
    }
   ],
   "source": [
    "price = get_latest_crypto_price(\"BTC\")\n",
    "print(price)"
   ]
  },
  {
   "cell_type": "code",
   "execution_count": 130,
   "id": "edd57521",
   "metadata": {},
   "outputs": [
    {
     "name": "stdout",
     "output_type": "stream",
     "text": [
      "[30004.782807751984, 2038.3799728420329, 0.9987209606017236, 300.70686887663464, 1.000277109722835, 54.62483901408799, 0.42847772760149133, 0.00021109638807978275, 0.5604572925193977, 0.08845461410518045, 33.204352170634586, 0.129647728767007, 10.807251376817224, 1.0020175023110776, 1.2198901190962027e-05, 30036.03622742738, 0.6874121317448054, 0.1961699998518432, 6.687728660983243, 1.000143980772571, 68.159875046213, 0.06964264628667785, 11.190694128440446, 7.584621020972662, 5.128389848600926, 201.38819635473695, 31.976086300498565, 4.9355841654392965, 8.228511523802197]\n"
     ]
    }
   ],
   "source": [
    "prices = []\n",
    "for symbol in symbols[:29]:\n",
    "    price = get_latest_crypto_price(symbol)\n",
    "    prices.append(price)\n",
    "print(prices)"
   ]
  },
  {
   "cell_type": "code",
   "execution_count": 131,
   "id": "f88cd884",
   "metadata": {},
   "outputs": [],
   "source": [
    "def get_crypto_prices(symbols):\n",
    "    prices = {}\n",
    "    for symbol in symbols[:25]:\n",
    "        price = get_latest_crypto_price(symbol)\n",
    "        prices[symbol] = price\n",
    "    time.sleep(60) \n",
    "    for symbol in symbols[26:50]:\n",
    "        price = get_latest_crypto_price(symbol)\n",
    "        prices[symbol] = price\n",
    "    time.sleep(60)\n",
    "    for symbol in symbols[51:75]:\n",
    "        price = get_latest_crypto_price(symbol)\n",
    "        prices[symbol] = price\n",
    "    time.sleep(60) \n",
    "    for symbol in symbols[76:100]:\n",
    "        price = get_latest_crypto_price(symbol)\n",
    "        prices[symbol] = price\n",
    "    print(prices)\n",
    "    return prices   "
   ]
  },
  {
   "cell_type": "code",
   "execution_count": 132,
   "id": "850c8b9c",
   "metadata": {},
   "outputs": [
    {
     "name": "stdout",
     "output_type": "stream",
     "text": [
      "{'BTC': 29938.52249621234, 'ETH': 2035.361429102005, 'USDT': 0.9986589266359799, 'BNB': 300.25464702192687, 'USDC': 1.000421719866578, 'SOL': 54.58299246744837, 'XRP': 0.4275459422202376, 'LUNA': 0.00020995764547347587, 'ADA': 0.5591577033284854, 'DOGE': 0.08839236755922372, 'AVAX': 33.144829735316364, 'UST': 0.12929653273841898, 'DOT': 10.783859150323314, 'BUSD': 1.0020368056940776, 'SHIB': 1.2175478535677184e-05, 'WBTC': 30007.467289660104, 'MATIC': 0.6867685047323774, 'CRO': 0.1959278988861993, 'NEAR': 6.678206292342061, 'DAI': 1.000344846381948, 'LTC': 68.19078435170222, 'TRX': 0.06950971383247893, 'ATOM': 11.170972627661829, 'LINK': 7.5695596331487245, 'UNI': 5.115400424450645, 'FTT': 31.897695488808107, 'LEO': 4.929328474396036, 'APE': 8.185920466375924, 'XLM': 0.13705483099588417, 'ALGO': 0.465866426536017, 'XMR': 165.20300195228396, 'ETC': 21.08583177977781, 'HBAR': 0.10544792043732737, 'MANA': 1.2018679164357193, 'ICP': 8.22699445131867, 'VET': 0.03140608605601232, 'FIL': 8.400427150131122, 'EGLD': 94.7987858366239, 'SAND': 1.3288557670878824, 'THETA': 1.3508975507058743, 'RUNE': 3.2043500981996456, 'FTM': 0.34264686626666757, 'XTZ': 1.8005461920656738, 'AXS': 20.354519139426944, 'CAKE': 4.603990436350949, 'KLAY': 0.3966439086023114, 'EOS': 1.3316375833843987, 'AAVE': 86.61232662219442, 'ZEC': 103.91973723491903, 'FLOW': 2.851314211162865, 'GMT': 1.4318363739270716, 'KCS': 13.815038483538782, 'WAVES': 6.54226350139476, 'MIOTA': 0.37260303948106616, 'MKR': 1580.490540340267, 'BTT': 1.109754393264066e-06, 'GRT': 0.1794413713521836, 'XEC': 4.7953347055202624e-05, 'BSV': 53.8389587946406, 'CVX': 11.210938809856938, 'HT': 6.986946895279489, 'STX': 0.5564666943761442, 'NEO': 10.394831743660653, 'KSM': 73.69485109122434, 'TUSD': 1.0008165559197948, 'ZIL': 0.051138945303772075, 'ONE': 0.04798190778041301, 'QNT': 71.3736406269768, 'CELO': 1.4328136353508478, 'GALA': 0.08733227906782004, 'CHZ': 0.11505206514493532, 'CRV': 1.3841675636116673, 'NEXO': 1.378036210853407, 'OKB': 12.430601810175766, 'LRC': 0.4767522603512945, 'BAT': 0.4038973271662399, 'DASH': 58.42021383817721, 'MINA': 1.0575929001341586, 'KAVA': 2.4517832362675067, 'USDN': 0.9507722540255911, 'USDP': 1.001607926778287, 'AR': 15.715580442544706, 'AMP': 0.013817188204671944, 'KNC': 1.6217769627704464, 'COMP': 68.88598398399151, 'DCR': 38.614493014134084, 'KDA': 2.9399573373960246, 'TFUEL': 0.06942648984218992, 'XEM': 0.059031907807345525, 'ROSE': 0.07785248882562465, 'HOT': 0.0026348490235977126, 'GLMR': 1.3093653612370608, 'ICX': 0.3808656667395238, 'SCRT': 1.8991587452478642, 'AUDIO': 0.44620415310187744, 'YFI': 9832.708105756683, 'XDC': 0.0467620908869341}\n"
     ]
    },
    {
     "data": {
      "text/plain": [
       "{'BTC': 29938.52249621234,\n",
       " 'ETH': 2035.361429102005,\n",
       " 'USDT': 0.9986589266359799,\n",
       " 'BNB': 300.25464702192687,\n",
       " 'USDC': 1.000421719866578,\n",
       " 'SOL': 54.58299246744837,\n",
       " 'XRP': 0.4275459422202376,\n",
       " 'LUNA': 0.00020995764547347587,\n",
       " 'ADA': 0.5591577033284854,\n",
       " 'DOGE': 0.08839236755922372,\n",
       " 'AVAX': 33.144829735316364,\n",
       " 'UST': 0.12929653273841898,\n",
       " 'DOT': 10.783859150323314,\n",
       " 'BUSD': 1.0020368056940776,\n",
       " 'SHIB': 1.2175478535677184e-05,\n",
       " 'WBTC': 30007.467289660104,\n",
       " 'MATIC': 0.6867685047323774,\n",
       " 'CRO': 0.1959278988861993,\n",
       " 'NEAR': 6.678206292342061,\n",
       " 'DAI': 1.000344846381948,\n",
       " 'LTC': 68.19078435170222,\n",
       " 'TRX': 0.06950971383247893,\n",
       " 'ATOM': 11.170972627661829,\n",
       " 'LINK': 7.5695596331487245,\n",
       " 'UNI': 5.115400424450645,\n",
       " 'FTT': 31.897695488808107,\n",
       " 'LEO': 4.929328474396036,\n",
       " 'APE': 8.185920466375924,\n",
       " 'XLM': 0.13705483099588417,\n",
       " 'ALGO': 0.465866426536017,\n",
       " 'XMR': 165.20300195228396,\n",
       " 'ETC': 21.08583177977781,\n",
       " 'HBAR': 0.10544792043732737,\n",
       " 'MANA': 1.2018679164357193,\n",
       " 'ICP': 8.22699445131867,\n",
       " 'VET': 0.03140608605601232,\n",
       " 'FIL': 8.400427150131122,\n",
       " 'EGLD': 94.7987858366239,\n",
       " 'SAND': 1.3288557670878824,\n",
       " 'THETA': 1.3508975507058743,\n",
       " 'RUNE': 3.2043500981996456,\n",
       " 'FTM': 0.34264686626666757,\n",
       " 'XTZ': 1.8005461920656738,\n",
       " 'AXS': 20.354519139426944,\n",
       " 'CAKE': 4.603990436350949,\n",
       " 'KLAY': 0.3966439086023114,\n",
       " 'EOS': 1.3316375833843987,\n",
       " 'AAVE': 86.61232662219442,\n",
       " 'ZEC': 103.91973723491903,\n",
       " 'FLOW': 2.851314211162865,\n",
       " 'GMT': 1.4318363739270716,\n",
       " 'KCS': 13.815038483538782,\n",
       " 'WAVES': 6.54226350139476,\n",
       " 'MIOTA': 0.37260303948106616,\n",
       " 'MKR': 1580.490540340267,\n",
       " 'BTT': 1.109754393264066e-06,\n",
       " 'GRT': 0.1794413713521836,\n",
       " 'XEC': 4.7953347055202624e-05,\n",
       " 'BSV': 53.8389587946406,\n",
       " 'CVX': 11.210938809856938,\n",
       " 'HT': 6.986946895279489,\n",
       " 'STX': 0.5564666943761442,\n",
       " 'NEO': 10.394831743660653,\n",
       " 'KSM': 73.69485109122434,\n",
       " 'TUSD': 1.0008165559197948,\n",
       " 'ZIL': 0.051138945303772075,\n",
       " 'ONE': 0.04798190778041301,\n",
       " 'QNT': 71.3736406269768,\n",
       " 'CELO': 1.4328136353508478,\n",
       " 'GALA': 0.08733227906782004,\n",
       " 'CHZ': 0.11505206514493532,\n",
       " 'CRV': 1.3841675636116673,\n",
       " 'NEXO': 1.378036210853407,\n",
       " 'OKB': 12.430601810175766,\n",
       " 'LRC': 0.4767522603512945,\n",
       " 'BAT': 0.4038973271662399,\n",
       " 'DASH': 58.42021383817721,\n",
       " 'MINA': 1.0575929001341586,\n",
       " 'KAVA': 2.4517832362675067,\n",
       " 'USDN': 0.9507722540255911,\n",
       " 'USDP': 1.001607926778287,\n",
       " 'AR': 15.715580442544706,\n",
       " 'AMP': 0.013817188204671944,\n",
       " 'KNC': 1.6217769627704464,\n",
       " 'COMP': 68.88598398399151,\n",
       " 'DCR': 38.614493014134084,\n",
       " 'KDA': 2.9399573373960246,\n",
       " 'TFUEL': 0.06942648984218992,\n",
       " 'XEM': 0.059031907807345525,\n",
       " 'ROSE': 0.07785248882562465,\n",
       " 'HOT': 0.0026348490235977126,\n",
       " 'GLMR': 1.3093653612370608,\n",
       " 'ICX': 0.3808656667395238,\n",
       " 'SCRT': 1.8991587452478642,\n",
       " 'AUDIO': 0.44620415310187744,\n",
       " 'YFI': 9832.708105756683,\n",
       " 'XDC': 0.0467620908869341}"
      ]
     },
     "execution_count": 132,
     "metadata": {},
     "output_type": "execute_result"
    }
   ],
   "source": [
    "get_crypto_prices(symbols)"
   ]
  }
 ],
 "metadata": {
  "kernelspec": {
   "display_name": "Python 3 (ipykernel)",
   "language": "python",
   "name": "python3"
  },
  "language_info": {
   "codemirror_mode": {
    "name": "ipython",
    "version": 3
   },
   "file_extension": ".py",
   "mimetype": "text/x-python",
   "name": "python",
   "nbconvert_exporter": "python",
   "pygments_lexer": "ipython3",
   "version": "3.9.7"
  }
 },
 "nbformat": 4,
 "nbformat_minor": 5
}
