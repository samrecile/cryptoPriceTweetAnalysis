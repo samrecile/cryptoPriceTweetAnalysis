{
 "cells": [
  {
   "cell_type": "code",
   "execution_count": 83,
   "id": "c7be7b02",
   "metadata": {},
   "outputs": [],
   "source": [
    "import tweepy\n",
    "import pandas as pd\n",
    "import numpy as np\n",
    "import time"
   ]
  },
  {
   "cell_type": "markdown",
   "id": "0162cac7",
   "metadata": {},
   "source": [
    "### Twitter Section\n",
    "*In this section, I scan a list of twitter accounts for mentions of specific cryptocurrencies. Later I'll use this list to compare price fluctuations to mention fluctuations*"
   ]
  },
  {
   "cell_type": "code",
   "execution_count": 61,
   "id": "84536506",
   "metadata": {},
   "outputs": [],
   "source": [
    "# twitter api keys\n",
    "consumer_key = '5uwoGRFbnkdquwkhCh0eEP5oT'\n",
    "consumer_secret = 'Cb7FTO3PJfWuWlNQCJAk6t0WaiZUsr2gbxVXgoMEnDKZAWQ6E7'\n",
    "access_token = '1310723599498649602-iwJch4CulbtlfUanuiCexwq73a417e'\n",
    "access_token_secret = 'ZnptSo8sSn017u3vXcy8YFl79hbszPC3YKuaCxp9o3o0u'"
   ]
  },
  {
   "cell_type": "code",
   "execution_count": 62,
   "id": "351266bc",
   "metadata": {},
   "outputs": [],
   "source": [
    "# twitter api authentication\n",
    "auth = tweepy.OAuth1UserHandler(\n",
    "   consumer_key, consumer_secret, access_token, access_token_secret\n",
    ")\n",
    "\n",
    "api = tweepy.API(auth)"
   ]
  },
  {
   "cell_type": "code",
   "execution_count": 63,
   "id": "12590c81",
   "metadata": {},
   "outputs": [],
   "source": [
    "# 'CryptoTraderPro', 'crypto_trader', 'cryptotrader85'"
   ]
  },
  {
   "cell_type": "code",
   "execution_count": 64,
   "id": "83ae69d9",
   "metadata": {},
   "outputs": [
    {
     "name": "stdout",
     "output_type": "stream",
     "text": [
      "14\n"
     ]
    }
   ],
   "source": [
    "# accounts\n",
    "user_accounts = ['DocumentingBTC', 'WClementeIII', 'nic__carter', 'gladstein','APompliano','100trillionUSD', 'CryptoTraderPro', 'crypto_trader', 'cryptotrader85', 'TheWonderGirl4', 'DMTLAND_', 'AlgodTrading', 'CryptoBull0', 'Elwapo777']\n",
    "print(len(user_accounts))\n",
    "since_id = ''\n"
   ]
  },
  {
   "cell_type": "code",
   "execution_count": 65,
   "id": "f405da84",
   "metadata": {},
   "outputs": [],
   "source": [
    "# crypto name variations for mention scanning\n",
    "crypto_name_variations = {'Bitcoin': ['bitcoin', 'btc'],\n",
    " 'Ethereum': ['ethereum', 'eth'],\n",
    " 'Tether': ['tether', 'usdt'],\n",
    " 'BNB': ['bnb', 'bnb'],\n",
    " 'USD Coin': ['usd coin', 'usdc'],\n",
    " 'Solana': ['solana', 'sol'],\n",
    " 'XRP': ['xrp', 'xrp'],\n",
    " 'Terra': ['terra', 'luna'],\n",
    " 'Cardano': ['cardano', 'ada'],\n",
    " 'Dogecoin': ['dogecoin', 'doge'],\n",
    " 'Avalanche': ['avalanche', 'avax'],\n",
    " 'TerraUSD': ['terrausd', 'ust'],\n",
    " 'Polkadot': ['polkadot', 'dot'],\n",
    " 'Binance USD': ['binance usd', 'busd'],\n",
    " 'Shiba Inu': ['shiba inu', 'shib'],\n",
    " 'Wrapped Bitcoin': ['wrapped bitcoin', 'wbtc'],\n",
    " 'Polygon': ['polygon', 'matic'],\n",
    " 'Cronos': ['cronos', 'cro'],\n",
    " 'NEAR Protocol': ['near protocol', 'near'],\n",
    " 'Dai': ['dai', 'dai'],\n",
    " 'Litecoin': ['litecoin', 'ltc'],\n",
    " 'TRON': ['tron', 'trx'],\n",
    " 'Cosmos': ['cosmos', 'atom'],\n",
    " 'Chainlink': ['chainlink', 'link'],\n",
    " 'Uniswap': ['uniswap', 'uni'],\n",
    " 'Bitcoin Cash': ['bitcoin cash', 'bch'],\n",
    " 'FTX Token': ['ftx token', 'ftt'],\n",
    " 'UNUS SED LEO': ['unus sed leo', 'leo'],\n",
    " 'ApeCoin': ['apecoin', 'ape'],\n",
    " 'Stellar': ['stellar', 'xlm'],\n",
    " 'Algorand': ['algorand', 'algo'],\n",
    " 'Monero': ['monero', 'xmr'],\n",
    " 'Ethereum Classic': ['ethereum classic', 'etc'],\n",
    " 'Hedera': ['hedera', 'hbar'],\n",
    " 'Decentraland': ['decentraland', 'mana'],\n",
    " 'Internet Computer': ['internet computer', 'icp'],\n",
    " 'VeChain': ['vechain', 'vet'],\n",
    " 'Filecoin': ['filecoin', 'fil'],\n",
    " 'Elrond': ['elrond', 'egld'],\n",
    " 'The Sandbox': ['the sandbox', 'sand'],\n",
    " 'Theta Network': ['theta network', 'theta'],\n",
    " 'THORChain': ['thorchain', 'rune'],\n",
    " 'Fantom': ['fantom', 'ftm'],\n",
    " 'Tezos': ['tezos', 'xtz'],\n",
    " 'Axie Infinity': ['axie infinity', 'axs'],\n",
    " 'PancakeSwap': ['pancakeswap', 'cake'],\n",
    " 'Klaytn': ['klaytn', 'klay'],\n",
    " 'EOS': ['eos', 'eos'],\n",
    " 'Aave': ['aave', 'aave'],\n",
    " 'Zcash': ['zcash', 'zec'],\n",
    " 'Helium': ['helium', 'hnt'],\n",
    " 'Flow': ['flow', 'flow'],\n",
    " 'STEPN': ['stepn', 'gmt'],\n",
    " 'KuCoin Token': ['kucoin token', 'kcs'],\n",
    " 'Waves': ['waves', 'waves'],\n",
    " 'IOTA': ['iota', 'miota'],\n",
    " 'Maker': ['maker', 'mkr'],\n",
    " 'BitTorrent-New': ['bittorrent-new', 'btt'],\n",
    " 'The Graph': ['the graph', 'grt'],\n",
    " 'eCash': ['ecash', 'xec'],\n",
    " 'Bitcoin SV': ['bitcoin sv', 'bsv'],\n",
    " 'Convex Finance': ['convex finance', 'cvx'],\n",
    " 'Huobi Token': ['huobi token', 'ht'],\n",
    " 'Stacks': ['stacks', 'stx'],\n",
    " 'Neo': ['neo', 'neo'],\n",
    " 'Kusama': ['kusama', 'ksm'],\n",
    " 'TrueUSD': ['trueusd', 'tusd'],\n",
    " 'Zilliqa': ['zilliqa', 'zil'],\n",
    " 'Harmony': ['harmony', 'one'],\n",
    " 'Quant': ['quant', 'qnt'],\n",
    " 'Celo': ['celo', 'celo'],\n",
    " 'Gala': ['gala', 'gala'],\n",
    " 'Chiliz': ['chiliz', 'chz'],\n",
    " 'Curve DAO Token': ['curve dao token', 'crv'],\n",
    " 'Nexo': ['nexo', 'nexo'],\n",
    " 'Enjin Coin': ['enjin coin', 'enj'],\n",
    " 'OKB': ['okb', 'okb'],\n",
    " 'Loopring': ['loopring', 'lrc'],\n",
    " 'Basic Attention Token': ['basic attention token', 'bat'],\n",
    " 'Dash': ['dash', 'dash'],\n",
    " 'Mina': ['mina', 'mina'],\n",
    " 'Kava': ['kava', 'kava'],\n",
    " 'Neutrino USD': ['neutrino usd', 'usdn'],\n",
    " 'Pax Dollar': ['pax dollar', 'usdp'],\n",
    " 'Arweave': ['arweave', 'ar'],\n",
    " 'Amp': ['amp', 'amp'],\n",
    " 'Kyber Network Crystal v2': ['kyber network crystal v2', 'knc'],\n",
    " 'Compound': ['compound', 'comp'],\n",
    " 'Decred': ['decred', 'dcr'],\n",
    " 'Kadena': ['kadena', 'kda'],\n",
    " 'Theta Fuel': ['theta fuel', 'tfuel'],\n",
    " 'NEM': ['nem', 'xem'],\n",
    " 'Oasis Network': ['oasis network', 'rose'],\n",
    " 'Holo': ['holo', 'hot'],\n",
    " 'Moonbeam': ['moonbeam', 'glmr'],\n",
    " 'ICON': ['icon', 'icx'],\n",
    " 'Secret': ['secret', 'scrt'],\n",
    " 'Audius': ['audius', 'audio'],\n",
    " 'yearn.finance': ['yearn.finance', 'yfi'],\n",
    " 'XDC Network': ['xdc network', 'xdc']}"
   ]
  },
  {
   "cell_type": "code",
   "execution_count": 66,
   "id": "12dadb4c",
   "metadata": {},
   "outputs": [
    {
     "data": {
      "text/html": [
       "<div>\n",
       "<style scoped>\n",
       "    .dataframe tbody tr th:only-of-type {\n",
       "        vertical-align: middle;\n",
       "    }\n",
       "\n",
       "    .dataframe tbody tr th {\n",
       "        vertical-align: top;\n",
       "    }\n",
       "\n",
       "    .dataframe thead th {\n",
       "        text-align: right;\n",
       "    }\n",
       "</style>\n",
       "<table border=\"1\" class=\"dataframe\">\n",
       "  <thead>\n",
       "    <tr style=\"text-align: right;\">\n",
       "      <th></th>\n",
       "      <th>Crypto</th>\n",
       "      <th>Symbol</th>\n",
       "      <th>Count</th>\n",
       "    </tr>\n",
       "  </thead>\n",
       "  <tbody>\n",
       "    <tr>\n",
       "      <th>0</th>\n",
       "      <td>Bitcoin</td>\n",
       "      <td>BTC</td>\n",
       "      <td>0</td>\n",
       "    </tr>\n",
       "    <tr>\n",
       "      <th>1</th>\n",
       "      <td>Ethereum</td>\n",
       "      <td>ETH</td>\n",
       "      <td>0</td>\n",
       "    </tr>\n",
       "    <tr>\n",
       "      <th>2</th>\n",
       "      <td>Tether</td>\n",
       "      <td>USDT</td>\n",
       "      <td>0</td>\n",
       "    </tr>\n",
       "    <tr>\n",
       "      <th>3</th>\n",
       "      <td>BNB</td>\n",
       "      <td>BNB</td>\n",
       "      <td>0</td>\n",
       "    </tr>\n",
       "    <tr>\n",
       "      <th>4</th>\n",
       "      <td>USD Coin</td>\n",
       "      <td>USDC</td>\n",
       "      <td>0</td>\n",
       "    </tr>\n",
       "  </tbody>\n",
       "</table>\n",
       "</div>"
      ],
      "text/plain": [
       "     Crypto Symbol  Count\n",
       "0   Bitcoin    BTC      0\n",
       "1  Ethereum    ETH      0\n",
       "2    Tether   USDT      0\n",
       "3       BNB    BNB      0\n",
       "4  USD Coin   USDC      0"
      ]
     },
     "execution_count": 66,
     "metadata": {},
     "output_type": "execute_result"
    }
   ],
   "source": [
    "zeros = [0,0,0,0,0,0,0,0,0,0,0,0,0,0,0,0,0,0,0,0,0,0,0,0,0,0,0,0,0,0,0,0,0,0,0,0,0,0,0,0,0,0,0,0,0,0,0,0,0,0,0,0,0,0,0,0,0,0,0,0,0,0,0,0,0,0,0,0,0,0,0,0,0,0,0,0,0,0,0,0,0,0,0,0,0,0,0,0,0,0,0,0,0,0,0,0,0,0,0,0]\n",
    "cryptos = ['Bitcoin', 'Ethereum', 'Tether', 'BNB', 'USD Coin', 'Solana', 'XRP', 'Terra', 'Cardano', 'Dogecoin', 'Avalanche', 'TerraUSD', 'Polkadot', 'Binance USD', 'Shiba Inu', 'Wrapped Bitcoin', 'Polygon', 'Cronos', 'NEAR Protocol', 'Dai', 'Litecoin', 'TRON', 'Cosmos', 'Chainlink', 'Uniswap', 'Bitcoin Cash', 'FTX Token', 'UNUS SED LEO', 'ApeCoin', 'Stellar', 'Algorand', 'Monero', 'Ethereum Classic', 'Hedera', 'Decentraland', 'Internet Computer', 'VeChain', 'Filecoin', 'Elrond', 'The Sandbox', 'Theta Network', 'THORChain', 'Fantom', 'Tezos', 'Axie Infinity', 'PancakeSwap', 'Klaytn', 'EOS', 'Aave', 'Zcash', 'Helium', 'Flow', 'STEPN', 'KuCoin Token', 'Waves', 'IOTA', 'Maker', 'BitTorrent-New', 'The Graph', 'eCash', 'Bitcoin SV', 'Convex Finance', 'Huobi Token', 'Stacks', 'Neo', 'Kusama', 'TrueUSD', 'Zilliqa', 'Harmony', 'Quant', 'Celo', 'Gala', 'Chiliz', 'Curve DAO Token', 'Nexo', 'Enjin Coin', 'OKB', 'Loopring', 'Basic Attention Token', 'Dash', 'Mina', 'Kava', 'Neutrino USD', 'Pax Dollar', 'Arweave', 'Amp', 'Kyber Network Crystal v2', 'Compound', 'Decred', 'Kadena', 'Theta Fuel', 'NEM', 'Oasis Network', 'Holo', 'Moonbeam', 'ICON', 'Secret', 'Audius', 'yearn.finance', 'XDC Network']\n",
    "symbols = ['BTC', 'ETH', 'USDT', 'BNB', 'USDC', 'SOL', 'XRP', 'LUNA', 'ADA', 'DOGE', 'AVAX', 'UST', 'DOT', 'BUSD', 'SHIB', 'WBTC', 'MATIC', 'CRO', 'NEAR', 'DAI', 'LTC', 'TRX', 'ATOM', 'LINK', 'UNI', 'BCH', 'FTT', 'LEO', 'APE', 'XLM', 'ALGO', 'XMR', 'ETC', 'HBAR', 'MANA', 'ICP', 'VET', 'FIL', 'EGLD', 'SAND', 'THETA', 'RUNE', 'FTM', 'XTZ', 'AXS', 'CAKE', 'KLAY', 'EOS', 'AAVE', 'ZEC', 'HNT', 'FLOW', 'GMT', 'KCS', 'WAVES', 'MIOTA', 'MKR', 'BTT', 'GRT', 'XEC', 'BSV', 'CVX', 'HT', 'STX', 'NEO', 'KSM', 'TUSD', 'ZIL', 'ONE', 'QNT', 'CELO', 'GALA', 'CHZ', 'CRV', 'NEXO', 'ENJ', 'OKB', 'LRC', 'BAT', 'DASH', 'MINA', 'KAVA', 'USDN', 'USDP', 'AR', 'AMP', 'KNC', 'COMP', 'DCR', 'KDA', 'TFUEL', 'XEM', 'ROSE', 'HOT', 'GLMR', 'ICX', 'SCRT', 'AUDIO', 'YFI', 'XDC']\n",
    "mentions = pd.DataFrame(list(zip(cryptos, symbols)), columns=['Crypto', 'Symbol'])\n",
    "mentions['Count'] = zeros\n",
    "mentions.head()"
   ]
  },
  {
   "cell_type": "code",
   "execution_count": 114,
   "id": "20b95c96",
   "metadata": {},
   "outputs": [],
   "source": [
    "# function mention grabber\n",
    "def get_user_tweets(user_id, name_variations, since=None):\n",
    "    if since:\n",
    "        user_tweets = api.user_timeline(screen_name=user_id, since_id=since, count=100)\n",
    "        since_id = user_tweets[-1].id\n",
    "        # update twitter acount model instance with since_id\n",
    "        return user_tweets\n",
    "    else:\n",
    "        user_tweets = api.user_timeline(screen_name=user_id, count=100)\n",
    "        since_id = user_tweets[-1].id\n",
    "        # update twitter acount model instance with since_id\n",
    "        return user_tweets\n"
   ]
  },
  {
   "cell_type": "code",
   "execution_count": 115,
   "id": "a06adde6",
   "metadata": {},
   "outputs": [
    {
     "name": "stdout",
     "output_type": "stream",
     "text": [
      "DocumentingBTC has 100 new tweets since the last api call.\n",
      "4.2402989864349365\n",
      "WClementeIII has 100 new tweets since the last api call.\n",
      "0.6290550231933594\n",
      "nic__carter has 100 new tweets since the last api call.\n",
      "0.9044289588928223\n",
      "gladstein has 100 new tweets since the last api call.\n",
      "0.9148688316345215\n",
      "APompliano has 100 new tweets since the last api call.\n",
      "0.874492883682251\n",
      "100trillionUSD has 100 new tweets since the last api call.\n",
      "0.8749666213989258\n",
      "CryptoTraderPro has 100 new tweets since the last api call.\n",
      "1.2133519649505615\n",
      "crypto_trader has 99 new tweets since the last api call.\n",
      "0.8791120052337646\n",
      "cryptotrader85 has 100 new tweets since the last api call.\n",
      "0.9036741256713867\n",
      "TheWonderGirl4 has 100 new tweets since the last api call.\n",
      "0.872830867767334\n",
      "DMTLAND_ has 100 new tweets since the last api call.\n",
      "1.1777760982513428\n",
      "AlgodTrading has 100 new tweets since the last api call.\n",
      "0.8485639095306396\n",
      "CryptoBull0 has 99 new tweets since the last api call.\n",
      "0.946709156036377\n",
      "Elwapo777 has 100 new tweets since the last api call.\n",
      "0.8824148178100586\n",
      "\n",
      "           Crypto Symbol  Count\n",
      "0         Bitcoin    BTC   1117\n",
      "1        Ethereum    ETH    226\n",
      "2          Tether   USDT     69\n",
      "3             BNB    BNB     38\n",
      "4        USD Coin   USDC      3\n",
      "..            ...    ...    ...\n",
      "95           ICON    ICX      0\n",
      "96         Secret   SCRT     64\n",
      "97         Audius  AUDIO      0\n",
      "98  yearn.finance    YFI     16\n",
      "99    XDC Network    XDC      0\n",
      "\n",
      "[100 rows x 3 columns]\n"
     ]
    }
   ],
   "source": [
    "last_since_id = ''\n",
    "\n",
    "\n",
    "for user_id in user_accounts:\n",
    "    start = time.time()\n",
    "    user_tweets = get_user_tweets(user_id, name_variations)\n",
    "    print(user_id, 'has', str(len(user_tweets)), 'new tweets since the last api call.')\n",
    "    for currency, currency_tokens in name_variations.items():\n",
    "        for tweet in user_tweets:\n",
    "            for token in currency_tokens:\n",
    "                if token in tweet.text.lower():\n",
    "                    mentions.loc[mentions.Crypto == currency, \"Count\"] += 1\n",
    "    end = time.time()\n",
    "    print(end-start)\n",
    "print(last_since_id)                 \n",
    "print(mentions)"
   ]
  },
  {
   "cell_type": "code",
   "execution_count": 116,
   "id": "2a770f6c",
   "metadata": {},
   "outputs": [
    {
     "data": {
      "text/plain": [
       "6.5"
      ]
     },
     "execution_count": 116,
     "metadata": {},
     "output_type": "execute_result"
    }
   ],
   "source": [
    "mentions.Count.median()"
   ]
  },
  {
   "cell_type": "code",
   "execution_count": 117,
   "id": "08940a20",
   "metadata": {},
   "outputs": [
    {
     "name": "stdout",
     "output_type": "stream",
     "text": [
      "     Crypto Symbol  Count\n",
      "0   Bitcoin    BTC   1117\n",
      "1  Ethereum    ETH    226\n",
      "2    Tether   USDT     69\n",
      "3       BNB    BNB     38\n",
      "4  USD Coin   USDC      3\n"
     ]
    }
   ],
   "source": [
    "print(mentions.head())"
   ]
  },
  {
   "cell_type": "markdown",
   "id": "d880aa65",
   "metadata": {},
   "source": [
    "## Crypto Section\n",
    "In this section, I'll grab crypto prices for comparison to mention fluctuation"
   ]
  },
  {
   "cell_type": "code",
   "execution_count": 99,
   "id": "2885ae90",
   "metadata": {},
   "outputs": [],
   "source": [
    "# import and key\n",
    "from coinmarketcapapi import CoinMarketCapAPI, CoinMarketCapAPIError\n",
    "cmc = CoinMarketCapAPI('d497bd66-dab0-4790-893d-36b432a800fb')"
   ]
  },
  {
   "cell_type": "code",
   "execution_count": 120,
   "id": "e87996bf",
   "metadata": {},
   "outputs": [],
   "source": [
    "def get_latest_crypto_price(ticker):\n",
    "    api_call = cmc.cryptocurrency_quotes_latest(symbol=ticker)\n",
    "    price = api_call.data[ticker][\"quote\"][\"USD\"][\"price\"]\n",
    "    return price"
   ]
  },
  {
   "cell_type": "code",
   "execution_count": 121,
   "id": "a4602a91",
   "metadata": {},
   "outputs": [
    {
     "name": "stdout",
     "output_type": "stream",
     "text": [
      "31305.1125686764\n"
     ]
    }
   ],
   "source": [
    "price = get_latest_crypto_price(\"BTC\")\n",
    "print(price)"
   ]
  },
  {
   "cell_type": "code",
   "execution_count": 123,
   "id": "89fe2587",
   "metadata": {},
   "outputs": [
    {
     "ename": "AttributeError",
     "evalue": "'NoneType' object has no attribute 'warning'",
     "output_type": "error",
     "traceback": [
      "\u001b[0;31m---------------------------------------------------------------------------\u001b[0m",
      "\u001b[0;31mTimeoutError\u001b[0m                              Traceback (most recent call last)",
      "\u001b[0;32m~/opt/anaconda3/lib/python3.9/site-packages/urllib3/connectionpool.py\u001b[0m in \u001b[0;36m_make_request\u001b[0;34m(self, conn, method, url, timeout, chunked, **httplib_request_kw)\u001b[0m\n\u001b[1;32m    444\u001b[0m                     \u001b[0;31m# Otherwise it looks like a bug in the code.\u001b[0m\u001b[0;34m\u001b[0m\u001b[0;34m\u001b[0m\u001b[0m\n\u001b[0;32m--> 445\u001b[0;31m                     \u001b[0msix\u001b[0m\u001b[0;34m.\u001b[0m\u001b[0mraise_from\u001b[0m\u001b[0;34m(\u001b[0m\u001b[0me\u001b[0m\u001b[0;34m,\u001b[0m \u001b[0;32mNone\u001b[0m\u001b[0;34m)\u001b[0m\u001b[0;34m\u001b[0m\u001b[0;34m\u001b[0m\u001b[0m\n\u001b[0m\u001b[1;32m    446\u001b[0m         \u001b[0;32mexcept\u001b[0m \u001b[0;34m(\u001b[0m\u001b[0mSocketTimeout\u001b[0m\u001b[0;34m,\u001b[0m \u001b[0mBaseSSLError\u001b[0m\u001b[0;34m,\u001b[0m \u001b[0mSocketError\u001b[0m\u001b[0;34m)\u001b[0m \u001b[0;32mas\u001b[0m \u001b[0me\u001b[0m\u001b[0;34m:\u001b[0m\u001b[0;34m\u001b[0m\u001b[0;34m\u001b[0m\u001b[0m\n",
      "\u001b[0;32m~/opt/anaconda3/lib/python3.9/site-packages/urllib3/packages/six.py\u001b[0m in \u001b[0;36mraise_from\u001b[0;34m(value, from_value)\u001b[0m\n",
      "\u001b[0;32m~/opt/anaconda3/lib/python3.9/site-packages/urllib3/connectionpool.py\u001b[0m in \u001b[0;36m_make_request\u001b[0;34m(self, conn, method, url, timeout, chunked, **httplib_request_kw)\u001b[0m\n\u001b[1;32m    439\u001b[0m                 \u001b[0;32mtry\u001b[0m\u001b[0;34m:\u001b[0m\u001b[0;34m\u001b[0m\u001b[0;34m\u001b[0m\u001b[0m\n\u001b[0;32m--> 440\u001b[0;31m                     \u001b[0mhttplib_response\u001b[0m \u001b[0;34m=\u001b[0m \u001b[0mconn\u001b[0m\u001b[0;34m.\u001b[0m\u001b[0mgetresponse\u001b[0m\u001b[0;34m(\u001b[0m\u001b[0;34m)\u001b[0m\u001b[0;34m\u001b[0m\u001b[0;34m\u001b[0m\u001b[0m\n\u001b[0m\u001b[1;32m    441\u001b[0m                 \u001b[0;32mexcept\u001b[0m \u001b[0mBaseException\u001b[0m \u001b[0;32mas\u001b[0m \u001b[0me\u001b[0m\u001b[0;34m:\u001b[0m\u001b[0;34m\u001b[0m\u001b[0;34m\u001b[0m\u001b[0m\n",
      "\u001b[0;32m~/opt/anaconda3/lib/python3.9/http/client.py\u001b[0m in \u001b[0;36mgetresponse\u001b[0;34m(self)\u001b[0m\n\u001b[1;32m   1370\u001b[0m             \u001b[0;32mtry\u001b[0m\u001b[0;34m:\u001b[0m\u001b[0;34m\u001b[0m\u001b[0;34m\u001b[0m\u001b[0m\n\u001b[0;32m-> 1371\u001b[0;31m                 \u001b[0mresponse\u001b[0m\u001b[0;34m.\u001b[0m\u001b[0mbegin\u001b[0m\u001b[0;34m(\u001b[0m\u001b[0;34m)\u001b[0m\u001b[0;34m\u001b[0m\u001b[0;34m\u001b[0m\u001b[0m\n\u001b[0m\u001b[1;32m   1372\u001b[0m             \u001b[0;32mexcept\u001b[0m \u001b[0mConnectionError\u001b[0m\u001b[0;34m:\u001b[0m\u001b[0;34m\u001b[0m\u001b[0;34m\u001b[0m\u001b[0m\n",
      "\u001b[0;32m~/opt/anaconda3/lib/python3.9/http/client.py\u001b[0m in \u001b[0;36mbegin\u001b[0;34m(self)\u001b[0m\n\u001b[1;32m    318\u001b[0m         \u001b[0;32mwhile\u001b[0m \u001b[0;32mTrue\u001b[0m\u001b[0;34m:\u001b[0m\u001b[0;34m\u001b[0m\u001b[0;34m\u001b[0m\u001b[0m\n\u001b[0;32m--> 319\u001b[0;31m             \u001b[0mversion\u001b[0m\u001b[0;34m,\u001b[0m \u001b[0mstatus\u001b[0m\u001b[0;34m,\u001b[0m \u001b[0mreason\u001b[0m \u001b[0;34m=\u001b[0m \u001b[0mself\u001b[0m\u001b[0;34m.\u001b[0m\u001b[0m_read_status\u001b[0m\u001b[0;34m(\u001b[0m\u001b[0;34m)\u001b[0m\u001b[0;34m\u001b[0m\u001b[0;34m\u001b[0m\u001b[0m\n\u001b[0m\u001b[1;32m    320\u001b[0m             \u001b[0;32mif\u001b[0m \u001b[0mstatus\u001b[0m \u001b[0;34m!=\u001b[0m \u001b[0mCONTINUE\u001b[0m\u001b[0;34m:\u001b[0m\u001b[0;34m\u001b[0m\u001b[0;34m\u001b[0m\u001b[0m\n",
      "\u001b[0;32m~/opt/anaconda3/lib/python3.9/http/client.py\u001b[0m in \u001b[0;36m_read_status\u001b[0;34m(self)\u001b[0m\n\u001b[1;32m    279\u001b[0m     \u001b[0;32mdef\u001b[0m \u001b[0m_read_status\u001b[0m\u001b[0;34m(\u001b[0m\u001b[0mself\u001b[0m\u001b[0;34m)\u001b[0m\u001b[0;34m:\u001b[0m\u001b[0;34m\u001b[0m\u001b[0;34m\u001b[0m\u001b[0m\n\u001b[0;32m--> 280\u001b[0;31m         \u001b[0mline\u001b[0m \u001b[0;34m=\u001b[0m \u001b[0mstr\u001b[0m\u001b[0;34m(\u001b[0m\u001b[0mself\u001b[0m\u001b[0;34m.\u001b[0m\u001b[0mfp\u001b[0m\u001b[0;34m.\u001b[0m\u001b[0mreadline\u001b[0m\u001b[0;34m(\u001b[0m\u001b[0m_MAXLINE\u001b[0m \u001b[0;34m+\u001b[0m \u001b[0;36m1\u001b[0m\u001b[0;34m)\u001b[0m\u001b[0;34m,\u001b[0m \u001b[0;34m\"iso-8859-1\"\u001b[0m\u001b[0;34m)\u001b[0m\u001b[0;34m\u001b[0m\u001b[0;34m\u001b[0m\u001b[0m\n\u001b[0m\u001b[1;32m    281\u001b[0m         \u001b[0;32mif\u001b[0m \u001b[0mlen\u001b[0m\u001b[0;34m(\u001b[0m\u001b[0mline\u001b[0m\u001b[0;34m)\u001b[0m \u001b[0;34m>\u001b[0m \u001b[0m_MAXLINE\u001b[0m\u001b[0;34m:\u001b[0m\u001b[0;34m\u001b[0m\u001b[0;34m\u001b[0m\u001b[0m\n",
      "\u001b[0;32m~/opt/anaconda3/lib/python3.9/socket.py\u001b[0m in \u001b[0;36mreadinto\u001b[0;34m(self, b)\u001b[0m\n\u001b[1;32m    703\u001b[0m             \u001b[0;32mtry\u001b[0m\u001b[0;34m:\u001b[0m\u001b[0;34m\u001b[0m\u001b[0;34m\u001b[0m\u001b[0m\n\u001b[0;32m--> 704\u001b[0;31m                 \u001b[0;32mreturn\u001b[0m \u001b[0mself\u001b[0m\u001b[0;34m.\u001b[0m\u001b[0m_sock\u001b[0m\u001b[0;34m.\u001b[0m\u001b[0mrecv_into\u001b[0m\u001b[0;34m(\u001b[0m\u001b[0mb\u001b[0m\u001b[0;34m)\u001b[0m\u001b[0;34m\u001b[0m\u001b[0;34m\u001b[0m\u001b[0m\n\u001b[0m\u001b[1;32m    705\u001b[0m             \u001b[0;32mexcept\u001b[0m \u001b[0mtimeout\u001b[0m\u001b[0;34m:\u001b[0m\u001b[0;34m\u001b[0m\u001b[0;34m\u001b[0m\u001b[0m\n",
      "\u001b[0;32m~/opt/anaconda3/lib/python3.9/ssl.py\u001b[0m in \u001b[0;36mrecv_into\u001b[0;34m(self, buffer, nbytes, flags)\u001b[0m\n\u001b[1;32m   1240\u001b[0m                   self.__class__)\n\u001b[0;32m-> 1241\u001b[0;31m             \u001b[0;32mreturn\u001b[0m \u001b[0mself\u001b[0m\u001b[0;34m.\u001b[0m\u001b[0mread\u001b[0m\u001b[0;34m(\u001b[0m\u001b[0mnbytes\u001b[0m\u001b[0;34m,\u001b[0m \u001b[0mbuffer\u001b[0m\u001b[0;34m)\u001b[0m\u001b[0;34m\u001b[0m\u001b[0;34m\u001b[0m\u001b[0m\n\u001b[0m\u001b[1;32m   1242\u001b[0m         \u001b[0;32melse\u001b[0m\u001b[0;34m:\u001b[0m\u001b[0;34m\u001b[0m\u001b[0;34m\u001b[0m\u001b[0m\n",
      "\u001b[0;32m~/opt/anaconda3/lib/python3.9/ssl.py\u001b[0m in \u001b[0;36mread\u001b[0;34m(self, len, buffer)\u001b[0m\n\u001b[1;32m   1098\u001b[0m             \u001b[0;32mif\u001b[0m \u001b[0mbuffer\u001b[0m \u001b[0;32mis\u001b[0m \u001b[0;32mnot\u001b[0m \u001b[0;32mNone\u001b[0m\u001b[0;34m:\u001b[0m\u001b[0;34m\u001b[0m\u001b[0;34m\u001b[0m\u001b[0m\n\u001b[0;32m-> 1099\u001b[0;31m                 \u001b[0;32mreturn\u001b[0m \u001b[0mself\u001b[0m\u001b[0;34m.\u001b[0m\u001b[0m_sslobj\u001b[0m\u001b[0;34m.\u001b[0m\u001b[0mread\u001b[0m\u001b[0;34m(\u001b[0m\u001b[0mlen\u001b[0m\u001b[0;34m,\u001b[0m \u001b[0mbuffer\u001b[0m\u001b[0;34m)\u001b[0m\u001b[0;34m\u001b[0m\u001b[0;34m\u001b[0m\u001b[0m\n\u001b[0m\u001b[1;32m   1100\u001b[0m             \u001b[0;32melse\u001b[0m\u001b[0;34m:\u001b[0m\u001b[0;34m\u001b[0m\u001b[0;34m\u001b[0m\u001b[0m\n",
      "\u001b[0;31mTimeoutError\u001b[0m: [Errno 60] Operation timed out",
      "\nDuring handling of the above exception, another exception occurred:\n",
      "\u001b[0;31mReadTimeoutError\u001b[0m                          Traceback (most recent call last)",
      "\u001b[0;32m~/opt/anaconda3/lib/python3.9/site-packages/requests/adapters.py\u001b[0m in \u001b[0;36msend\u001b[0;34m(self, request, stream, timeout, verify, cert, proxies)\u001b[0m\n\u001b[1;32m    439\u001b[0m             \u001b[0;32mif\u001b[0m \u001b[0;32mnot\u001b[0m \u001b[0mchunked\u001b[0m\u001b[0;34m:\u001b[0m\u001b[0;34m\u001b[0m\u001b[0;34m\u001b[0m\u001b[0m\n\u001b[0;32m--> 440\u001b[0;31m                 resp = conn.urlopen(\n\u001b[0m\u001b[1;32m    441\u001b[0m                     \u001b[0mmethod\u001b[0m\u001b[0;34m=\u001b[0m\u001b[0mrequest\u001b[0m\u001b[0;34m.\u001b[0m\u001b[0mmethod\u001b[0m\u001b[0;34m,\u001b[0m\u001b[0;34m\u001b[0m\u001b[0;34m\u001b[0m\u001b[0m\n",
      "\u001b[0;32m~/opt/anaconda3/lib/python3.9/site-packages/urllib3/connectionpool.py\u001b[0m in \u001b[0;36murlopen\u001b[0;34m(self, method, url, body, headers, retries, redirect, assert_same_host, timeout, pool_timeout, release_conn, chunked, body_pos, **response_kw)\u001b[0m\n\u001b[1;32m    754\u001b[0m \u001b[0;34m\u001b[0m\u001b[0m\n\u001b[0;32m--> 755\u001b[0;31m             retries = retries.increment(\n\u001b[0m\u001b[1;32m    756\u001b[0m                 \u001b[0mmethod\u001b[0m\u001b[0;34m,\u001b[0m \u001b[0murl\u001b[0m\u001b[0;34m,\u001b[0m \u001b[0merror\u001b[0m\u001b[0;34m=\u001b[0m\u001b[0me\u001b[0m\u001b[0;34m,\u001b[0m \u001b[0m_pool\u001b[0m\u001b[0;34m=\u001b[0m\u001b[0mself\u001b[0m\u001b[0;34m,\u001b[0m \u001b[0m_stacktrace\u001b[0m\u001b[0;34m=\u001b[0m\u001b[0msys\u001b[0m\u001b[0;34m.\u001b[0m\u001b[0mexc_info\u001b[0m\u001b[0;34m(\u001b[0m\u001b[0;34m)\u001b[0m\u001b[0;34m[\u001b[0m\u001b[0;36m2\u001b[0m\u001b[0;34m]\u001b[0m\u001b[0;34m\u001b[0m\u001b[0;34m\u001b[0m\u001b[0m\n",
      "\u001b[0;32m~/opt/anaconda3/lib/python3.9/site-packages/urllib3/util/retry.py\u001b[0m in \u001b[0;36mincrement\u001b[0;34m(self, method, url, response, error, _pool, _stacktrace)\u001b[0m\n\u001b[1;32m    531\u001b[0m             \u001b[0;32mif\u001b[0m \u001b[0mread\u001b[0m \u001b[0;32mis\u001b[0m \u001b[0;32mFalse\u001b[0m \u001b[0;32mor\u001b[0m \u001b[0;32mnot\u001b[0m \u001b[0mself\u001b[0m\u001b[0;34m.\u001b[0m\u001b[0m_is_method_retryable\u001b[0m\u001b[0;34m(\u001b[0m\u001b[0mmethod\u001b[0m\u001b[0;34m)\u001b[0m\u001b[0;34m:\u001b[0m\u001b[0;34m\u001b[0m\u001b[0;34m\u001b[0m\u001b[0m\n\u001b[0;32m--> 532\u001b[0;31m                 \u001b[0;32mraise\u001b[0m \u001b[0msix\u001b[0m\u001b[0;34m.\u001b[0m\u001b[0mreraise\u001b[0m\u001b[0;34m(\u001b[0m\u001b[0mtype\u001b[0m\u001b[0;34m(\u001b[0m\u001b[0merror\u001b[0m\u001b[0;34m)\u001b[0m\u001b[0;34m,\u001b[0m \u001b[0merror\u001b[0m\u001b[0;34m,\u001b[0m \u001b[0m_stacktrace\u001b[0m\u001b[0;34m)\u001b[0m\u001b[0;34m\u001b[0m\u001b[0;34m\u001b[0m\u001b[0m\n\u001b[0m\u001b[1;32m    533\u001b[0m             \u001b[0;32melif\u001b[0m \u001b[0mread\u001b[0m \u001b[0;32mis\u001b[0m \u001b[0;32mnot\u001b[0m \u001b[0;32mNone\u001b[0m\u001b[0;34m:\u001b[0m\u001b[0;34m\u001b[0m\u001b[0;34m\u001b[0m\u001b[0m\n",
      "\u001b[0;32m~/opt/anaconda3/lib/python3.9/site-packages/urllib3/packages/six.py\u001b[0m in \u001b[0;36mreraise\u001b[0;34m(tp, value, tb)\u001b[0m\n\u001b[1;32m    769\u001b[0m                 \u001b[0;32mraise\u001b[0m \u001b[0mvalue\u001b[0m\u001b[0;34m.\u001b[0m\u001b[0mwith_traceback\u001b[0m\u001b[0;34m(\u001b[0m\u001b[0mtb\u001b[0m\u001b[0;34m)\u001b[0m\u001b[0;34m\u001b[0m\u001b[0;34m\u001b[0m\u001b[0m\n\u001b[0;32m--> 770\u001b[0;31m             \u001b[0;32mraise\u001b[0m \u001b[0mvalue\u001b[0m\u001b[0;34m\u001b[0m\u001b[0;34m\u001b[0m\u001b[0m\n\u001b[0m\u001b[1;32m    771\u001b[0m         \u001b[0;32mfinally\u001b[0m\u001b[0;34m:\u001b[0m\u001b[0;34m\u001b[0m\u001b[0;34m\u001b[0m\u001b[0m\n",
      "\u001b[0;32m~/opt/anaconda3/lib/python3.9/site-packages/urllib3/connectionpool.py\u001b[0m in \u001b[0;36murlopen\u001b[0;34m(self, method, url, body, headers, retries, redirect, assert_same_host, timeout, pool_timeout, release_conn, chunked, body_pos, **response_kw)\u001b[0m\n\u001b[1;32m    698\u001b[0m             \u001b[0;31m# Make the request on the httplib connection object.\u001b[0m\u001b[0;34m\u001b[0m\u001b[0;34m\u001b[0m\u001b[0m\n\u001b[0;32m--> 699\u001b[0;31m             httplib_response = self._make_request(\n\u001b[0m\u001b[1;32m    700\u001b[0m                 \u001b[0mconn\u001b[0m\u001b[0;34m,\u001b[0m\u001b[0;34m\u001b[0m\u001b[0;34m\u001b[0m\u001b[0m\n",
      "\u001b[0;32m~/opt/anaconda3/lib/python3.9/site-packages/urllib3/connectionpool.py\u001b[0m in \u001b[0;36m_make_request\u001b[0;34m(self, conn, method, url, timeout, chunked, **httplib_request_kw)\u001b[0m\n\u001b[1;32m    446\u001b[0m         \u001b[0;32mexcept\u001b[0m \u001b[0;34m(\u001b[0m\u001b[0mSocketTimeout\u001b[0m\u001b[0;34m,\u001b[0m \u001b[0mBaseSSLError\u001b[0m\u001b[0;34m,\u001b[0m \u001b[0mSocketError\u001b[0m\u001b[0;34m)\u001b[0m \u001b[0;32mas\u001b[0m \u001b[0me\u001b[0m\u001b[0;34m:\u001b[0m\u001b[0;34m\u001b[0m\u001b[0;34m\u001b[0m\u001b[0m\n\u001b[0;32m--> 447\u001b[0;31m             \u001b[0mself\u001b[0m\u001b[0;34m.\u001b[0m\u001b[0m_raise_timeout\u001b[0m\u001b[0;34m(\u001b[0m\u001b[0merr\u001b[0m\u001b[0;34m=\u001b[0m\u001b[0me\u001b[0m\u001b[0;34m,\u001b[0m \u001b[0murl\u001b[0m\u001b[0;34m=\u001b[0m\u001b[0murl\u001b[0m\u001b[0;34m,\u001b[0m \u001b[0mtimeout_value\u001b[0m\u001b[0;34m=\u001b[0m\u001b[0mread_timeout\u001b[0m\u001b[0;34m)\u001b[0m\u001b[0;34m\u001b[0m\u001b[0;34m\u001b[0m\u001b[0m\n\u001b[0m\u001b[1;32m    448\u001b[0m             \u001b[0;32mraise\u001b[0m\u001b[0;34m\u001b[0m\u001b[0;34m\u001b[0m\u001b[0m\n",
      "\u001b[0;32m~/opt/anaconda3/lib/python3.9/site-packages/urllib3/connectionpool.py\u001b[0m in \u001b[0;36m_raise_timeout\u001b[0;34m(self, err, url, timeout_value)\u001b[0m\n\u001b[1;32m    352\u001b[0m         ):  # Python < 2.7.4\n\u001b[0;32m--> 353\u001b[0;31m             raise ReadTimeoutError(\n\u001b[0m\u001b[1;32m    354\u001b[0m                 \u001b[0mself\u001b[0m\u001b[0;34m,\u001b[0m \u001b[0murl\u001b[0m\u001b[0;34m,\u001b[0m \u001b[0;34m\"Read timed out. (read timeout=%s)\"\u001b[0m \u001b[0;34m%\u001b[0m \u001b[0mtimeout_value\u001b[0m\u001b[0;34m\u001b[0m\u001b[0;34m\u001b[0m\u001b[0m\n",
      "\u001b[0;31mReadTimeoutError\u001b[0m: HTTPSConnectionPool(host='pro-api.coinmarketcap.com', port=443): Read timed out. (read timeout=None)",
      "\nDuring handling of the above exception, another exception occurred:\n",
      "\u001b[0;31mReadTimeout\u001b[0m                               Traceback (most recent call last)",
      "\u001b[0;32m~/opt/anaconda3/lib/python3.9/site-packages/coinmarketcapapi/__init__.py\u001b[0m in \u001b[0;36m__get\u001b[0;34m(self, url, **kwargs)\u001b[0m\n\u001b[1;32m    171\u001b[0m         \u001b[0;32mtry\u001b[0m\u001b[0;34m:\u001b[0m\u001b[0;34m\u001b[0m\u001b[0;34m\u001b[0m\u001b[0m\n\u001b[0;32m--> 172\u001b[0;31m             \u001b[0mresponse\u001b[0m \u001b[0;34m=\u001b[0m \u001b[0mself\u001b[0m\u001b[0;34m.\u001b[0m\u001b[0m__session\u001b[0m\u001b[0;34m.\u001b[0m\u001b[0mget\u001b[0m\u001b[0;34m(\u001b[0m\u001b[0murl\u001b[0m\u001b[0;34m,\u001b[0m \u001b[0mparams\u001b[0m\u001b[0;34m=\u001b[0m\u001b[0mkwargs\u001b[0m\u001b[0;34m)\u001b[0m\u001b[0;34m\u001b[0m\u001b[0;34m\u001b[0m\u001b[0m\n\u001b[0m\u001b[1;32m    173\u001b[0m             \u001b[0mrep\u001b[0m \u001b[0;34m=\u001b[0m \u001b[0mResponse\u001b[0m\u001b[0;34m(\u001b[0m\u001b[0mresponse\u001b[0m\u001b[0;34m,\u001b[0m \u001b[0mtimer\u001b[0m\u001b[0;34m)\u001b[0m\u001b[0;34m\u001b[0m\u001b[0;34m\u001b[0m\u001b[0m\n",
      "\u001b[0;32m~/opt/anaconda3/lib/python3.9/site-packages/requests/sessions.py\u001b[0m in \u001b[0;36mget\u001b[0;34m(self, url, **kwargs)\u001b[0m\n\u001b[1;32m    541\u001b[0m         \u001b[0mkwargs\u001b[0m\u001b[0;34m.\u001b[0m\u001b[0msetdefault\u001b[0m\u001b[0;34m(\u001b[0m\u001b[0;34m'allow_redirects'\u001b[0m\u001b[0;34m,\u001b[0m \u001b[0;32mTrue\u001b[0m\u001b[0;34m)\u001b[0m\u001b[0;34m\u001b[0m\u001b[0;34m\u001b[0m\u001b[0m\n\u001b[0;32m--> 542\u001b[0;31m         \u001b[0;32mreturn\u001b[0m \u001b[0mself\u001b[0m\u001b[0;34m.\u001b[0m\u001b[0mrequest\u001b[0m\u001b[0;34m(\u001b[0m\u001b[0;34m'GET'\u001b[0m\u001b[0;34m,\u001b[0m \u001b[0murl\u001b[0m\u001b[0;34m,\u001b[0m \u001b[0;34m**\u001b[0m\u001b[0mkwargs\u001b[0m\u001b[0;34m)\u001b[0m\u001b[0;34m\u001b[0m\u001b[0;34m\u001b[0m\u001b[0m\n\u001b[0m\u001b[1;32m    543\u001b[0m \u001b[0;34m\u001b[0m\u001b[0m\n",
      "\u001b[0;32m~/opt/anaconda3/lib/python3.9/site-packages/requests/sessions.py\u001b[0m in \u001b[0;36mrequest\u001b[0;34m(self, method, url, params, data, headers, cookies, files, auth, timeout, allow_redirects, proxies, hooks, stream, verify, cert, json)\u001b[0m\n\u001b[1;32m    528\u001b[0m         \u001b[0msend_kwargs\u001b[0m\u001b[0;34m.\u001b[0m\u001b[0mupdate\u001b[0m\u001b[0;34m(\u001b[0m\u001b[0msettings\u001b[0m\u001b[0;34m)\u001b[0m\u001b[0;34m\u001b[0m\u001b[0;34m\u001b[0m\u001b[0m\n\u001b[0;32m--> 529\u001b[0;31m         \u001b[0mresp\u001b[0m \u001b[0;34m=\u001b[0m \u001b[0mself\u001b[0m\u001b[0;34m.\u001b[0m\u001b[0msend\u001b[0m\u001b[0;34m(\u001b[0m\u001b[0mprep\u001b[0m\u001b[0;34m,\u001b[0m \u001b[0;34m**\u001b[0m\u001b[0msend_kwargs\u001b[0m\u001b[0;34m)\u001b[0m\u001b[0;34m\u001b[0m\u001b[0;34m\u001b[0m\u001b[0m\n\u001b[0m\u001b[1;32m    530\u001b[0m \u001b[0;34m\u001b[0m\u001b[0m\n",
      "\u001b[0;32m~/opt/anaconda3/lib/python3.9/site-packages/requests/sessions.py\u001b[0m in \u001b[0;36msend\u001b[0;34m(self, request, **kwargs)\u001b[0m\n\u001b[1;32m    644\u001b[0m         \u001b[0;31m# Send the request\u001b[0m\u001b[0;34m\u001b[0m\u001b[0;34m\u001b[0m\u001b[0m\n\u001b[0;32m--> 645\u001b[0;31m         \u001b[0mr\u001b[0m \u001b[0;34m=\u001b[0m \u001b[0madapter\u001b[0m\u001b[0;34m.\u001b[0m\u001b[0msend\u001b[0m\u001b[0;34m(\u001b[0m\u001b[0mrequest\u001b[0m\u001b[0;34m,\u001b[0m \u001b[0;34m**\u001b[0m\u001b[0mkwargs\u001b[0m\u001b[0;34m)\u001b[0m\u001b[0;34m\u001b[0m\u001b[0;34m\u001b[0m\u001b[0m\n\u001b[0m\u001b[1;32m    646\u001b[0m \u001b[0;34m\u001b[0m\u001b[0m\n",
      "\u001b[0;32m~/opt/anaconda3/lib/python3.9/site-packages/requests/adapters.py\u001b[0m in \u001b[0;36msend\u001b[0;34m(self, request, stream, timeout, verify, cert, proxies)\u001b[0m\n\u001b[1;32m    531\u001b[0m             \u001b[0;32melif\u001b[0m \u001b[0misinstance\u001b[0m\u001b[0;34m(\u001b[0m\u001b[0me\u001b[0m\u001b[0;34m,\u001b[0m \u001b[0mReadTimeoutError\u001b[0m\u001b[0;34m)\u001b[0m\u001b[0;34m:\u001b[0m\u001b[0;34m\u001b[0m\u001b[0;34m\u001b[0m\u001b[0m\n\u001b[0;32m--> 532\u001b[0;31m                 \u001b[0;32mraise\u001b[0m \u001b[0mReadTimeout\u001b[0m\u001b[0;34m(\u001b[0m\u001b[0me\u001b[0m\u001b[0;34m,\u001b[0m \u001b[0mrequest\u001b[0m\u001b[0;34m=\u001b[0m\u001b[0mrequest\u001b[0m\u001b[0;34m)\u001b[0m\u001b[0;34m\u001b[0m\u001b[0;34m\u001b[0m\u001b[0m\n\u001b[0m\u001b[1;32m    533\u001b[0m             \u001b[0;32melif\u001b[0m \u001b[0misinstance\u001b[0m\u001b[0;34m(\u001b[0m\u001b[0me\u001b[0m\u001b[0;34m,\u001b[0m \u001b[0m_InvalidHeader\u001b[0m\u001b[0;34m)\u001b[0m\u001b[0;34m:\u001b[0m\u001b[0;34m\u001b[0m\u001b[0;34m\u001b[0m\u001b[0m\n",
      "\u001b[0;31mReadTimeout\u001b[0m: HTTPSConnectionPool(host='pro-api.coinmarketcap.com', port=443): Read timed out. (read timeout=None)",
      "\nDuring handling of the above exception, another exception occurred:\n",
      "\u001b[0;31mAttributeError\u001b[0m                            Traceback (most recent call last)",
      "\u001b[0;32m/var/folders/7y/thss8ypj0bdb983_rr_v8v700000gn/T/ipykernel_437/4028415532.py\u001b[0m in \u001b[0;36m<module>\u001b[0;34m\u001b[0m\n\u001b[1;32m      1\u001b[0m \u001b[0mprices\u001b[0m \u001b[0;34m=\u001b[0m \u001b[0;34m[\u001b[0m\u001b[0;34m]\u001b[0m\u001b[0;34m\u001b[0m\u001b[0;34m\u001b[0m\u001b[0m\n\u001b[1;32m      2\u001b[0m \u001b[0;32mfor\u001b[0m \u001b[0msymbol\u001b[0m \u001b[0;32min\u001b[0m \u001b[0msymbols\u001b[0m\u001b[0;34m[\u001b[0m\u001b[0;36m0\u001b[0m\u001b[0;34m:\u001b[0m\u001b[0;36m50\u001b[0m\u001b[0;34m]\u001b[0m\u001b[0;34m:\u001b[0m\u001b[0;34m\u001b[0m\u001b[0;34m\u001b[0m\u001b[0m\n\u001b[0;32m----> 3\u001b[0;31m     \u001b[0mprice\u001b[0m \u001b[0;34m=\u001b[0m \u001b[0mget_latest_crypto_price\u001b[0m\u001b[0;34m(\u001b[0m\u001b[0msymbol\u001b[0m\u001b[0;34m)\u001b[0m\u001b[0;34m\u001b[0m\u001b[0;34m\u001b[0m\u001b[0m\n\u001b[0m\u001b[1;32m      4\u001b[0m     \u001b[0mprices\u001b[0m\u001b[0;34m.\u001b[0m\u001b[0mappend\u001b[0m\u001b[0;34m(\u001b[0m\u001b[0mprice\u001b[0m\u001b[0;34m)\u001b[0m\u001b[0;34m\u001b[0m\u001b[0;34m\u001b[0m\u001b[0m\n\u001b[1;32m      5\u001b[0m \u001b[0mprint\u001b[0m\u001b[0;34m(\u001b[0m\u001b[0mprices\u001b[0m\u001b[0;34m)\u001b[0m\u001b[0;34m\u001b[0m\u001b[0;34m\u001b[0m\u001b[0m\n",
      "\u001b[0;32m/var/folders/7y/thss8ypj0bdb983_rr_v8v700000gn/T/ipykernel_437/770419588.py\u001b[0m in \u001b[0;36mget_latest_crypto_price\u001b[0;34m(ticker)\u001b[0m\n\u001b[1;32m      1\u001b[0m \u001b[0;32mdef\u001b[0m \u001b[0mget_latest_crypto_price\u001b[0m\u001b[0;34m(\u001b[0m\u001b[0mticker\u001b[0m\u001b[0;34m)\u001b[0m\u001b[0;34m:\u001b[0m\u001b[0;34m\u001b[0m\u001b[0;34m\u001b[0m\u001b[0m\n\u001b[0;32m----> 2\u001b[0;31m     \u001b[0mapi_call\u001b[0m \u001b[0;34m=\u001b[0m \u001b[0mcmc\u001b[0m\u001b[0;34m.\u001b[0m\u001b[0mcryptocurrency_quotes_latest\u001b[0m\u001b[0;34m(\u001b[0m\u001b[0msymbol\u001b[0m\u001b[0;34m=\u001b[0m\u001b[0mticker\u001b[0m\u001b[0;34m)\u001b[0m\u001b[0;34m\u001b[0m\u001b[0;34m\u001b[0m\u001b[0m\n\u001b[0m\u001b[1;32m      3\u001b[0m     \u001b[0mprice\u001b[0m \u001b[0;34m=\u001b[0m \u001b[0mapi_call\u001b[0m\u001b[0;34m.\u001b[0m\u001b[0mdata\u001b[0m\u001b[0;34m[\u001b[0m\u001b[0mticker\u001b[0m\u001b[0;34m]\u001b[0m\u001b[0;34m[\u001b[0m\u001b[0;34m\"quote\"\u001b[0m\u001b[0;34m]\u001b[0m\u001b[0;34m[\u001b[0m\u001b[0;34m\"USD\"\u001b[0m\u001b[0;34m]\u001b[0m\u001b[0;34m[\u001b[0m\u001b[0;34m\"price\"\u001b[0m\u001b[0;34m]\u001b[0m\u001b[0;34m\u001b[0m\u001b[0;34m\u001b[0m\u001b[0m\n\u001b[1;32m      4\u001b[0m     \u001b[0;32mreturn\u001b[0m \u001b[0mprice\u001b[0m\u001b[0;34m\u001b[0m\u001b[0;34m\u001b[0m\u001b[0m\n",
      "\u001b[0;32m~/opt/anaconda3/lib/python3.9/site-packages/coinmarketcapapi/__init__.py\u001b[0m in \u001b[0;36mcryptocurrency_quotes_latest\u001b[0;34m(self, **kwargs)\u001b[0m\n\u001b[1;32m    237\u001b[0m           \u001b[0mhttps\u001b[0m\u001b[0;34m:\u001b[0m\u001b[0;34m//\u001b[0m\u001b[0mcoinmarketcap\u001b[0m\u001b[0;34m.\u001b[0m\u001b[0mcom\u001b[0m\u001b[0;34m/\u001b[0m\u001b[0mapi\u001b[0m\u001b[0;34m/\u001b[0m\u001b[0mdocumentation\u001b[0m\u001b[0;34m/\u001b[0m\u001b[0mv1\u001b[0m\u001b[0;34m/\u001b[0m\u001b[0;31m#operation/getV1CryptocurrencyQuotesLatest\u001b[0m\u001b[0;34m\u001b[0m\u001b[0;34m\u001b[0m\u001b[0m\n\u001b[1;32m    238\u001b[0m         \"\"\"\n\u001b[0;32m--> 239\u001b[0;31m         return self.__get(\n\u001b[0m\u001b[1;32m    240\u001b[0m             \u001b[0;34m'/cryptocurrency/quotes/latest'\u001b[0m\u001b[0;34m,\u001b[0m\u001b[0;34m\u001b[0m\u001b[0;34m\u001b[0m\u001b[0m\n\u001b[1;32m    241\u001b[0m             **kwargs)\n",
      "\u001b[0;32m~/opt/anaconda3/lib/python3.9/site-packages/coinmarketcapapi/__init__.py\u001b[0m in \u001b[0;36m__get\u001b[0;34m(self, url, **kwargs)\u001b[0m\n\u001b[1;32m    188\u001b[0m             \u001b[0;32mreturn\u001b[0m \u001b[0mrep\u001b[0m\u001b[0;34m\u001b[0m\u001b[0;34m\u001b[0m\u001b[0m\n\u001b[1;32m    189\u001b[0m         \u001b[0;32mexcept\u001b[0m \u001b[0;34m(\u001b[0m\u001b[0mConnectionError\u001b[0m\u001b[0;34m,\u001b[0m \u001b[0mTimeout\u001b[0m\u001b[0;34m,\u001b[0m \u001b[0mTooManyRedirects\u001b[0m\u001b[0;34m)\u001b[0m \u001b[0;32mas\u001b[0m \u001b[0me\u001b[0m\u001b[0;34m:\u001b[0m\u001b[0;34m\u001b[0m\u001b[0;34m\u001b[0m\u001b[0m\n\u001b[0;32m--> 190\u001b[0;31m             \u001b[0mself\u001b[0m\u001b[0;34m.\u001b[0m\u001b[0m__logger\u001b[0m\u001b[0;34m.\u001b[0m\u001b[0mwarning\u001b[0m\u001b[0;34m(\u001b[0m\u001b[0me\u001b[0m\u001b[0;34m)\u001b[0m\u001b[0;34m\u001b[0m\u001b[0;34m\u001b[0m\u001b[0m\n\u001b[0m\u001b[1;32m    191\u001b[0m             \u001b[0;32mraise\u001b[0m \u001b[0me\u001b[0m\u001b[0;34m\u001b[0m\u001b[0;34m\u001b[0m\u001b[0m\n\u001b[1;32m    192\u001b[0m \u001b[0;34m\u001b[0m\u001b[0m\n",
      "\u001b[0;31mAttributeError\u001b[0m: 'NoneType' object has no attribute 'warning'"
     ]
    }
   ],
   "source": [
    "prices = []\n",
    "for symbol in symbols[0:50]:\n",
    "    price = get_latest_crypto_price(symbol)\n",
    "    prices.append(price)\n",
    "print(prices)"
   ]
  },
  {
   "cell_type": "code",
   "execution_count": null,
   "id": "a7e19fc8",
   "metadata": {},
   "outputs": [],
   "source": []
  }
 ],
 "metadata": {
  "kernelspec": {
   "display_name": "Python 3 (ipykernel)",
   "language": "python",
   "name": "python3"
  },
  "language_info": {
   "codemirror_mode": {
    "name": "ipython",
    "version": 3
   },
   "file_extension": ".py",
   "mimetype": "text/x-python",
   "name": "python",
   "nbconvert_exporter": "python",
   "pygments_lexer": "ipython3",
   "version": "3.9.7"
  }
 },
 "nbformat": 4,
 "nbformat_minor": 5
}
